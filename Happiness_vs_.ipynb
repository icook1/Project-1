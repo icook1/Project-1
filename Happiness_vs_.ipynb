{
 "cells": [
  {
   "cell_type": "code",
   "execution_count": 1,
   "metadata": {},
   "outputs": [],
   "source": [
    "import pandas as pd\n",
    "from matplotlib import pyplot as plt\n",
    "import seaborn as sb\n",
    "import numpy as np\n",
    "import plotly_express as px\n",
    "\n",
    "y2018 = pd.read_csv(\".//Resources/2018.csv\")\n",
    "y2019 = pd.read_csv(\".//Resources/2019.csv\")\n",
    "y2020 = pd.read_csv(\".//Resources/2020.csv\")\n",
    "y2021 = pd.read_csv(\".//Resources/2021.csv\")\n",
    "y2022 = pd.read_csv(\".//Resources/2022.csv\")"
   ]
  },
  {
   "cell_type": "code",
   "execution_count": 2,
   "metadata": {},
   "outputs": [
    {
     "data": {
      "text/plain": [
       "['Country',\n",
       " 'Happiness Score',\n",
       " 'Economy (GDP per Capita)',\n",
       " 'Health (Life Expectancy)',\n",
       " 'Freedom',\n",
       " 'Trust in Government',\n",
       " 'Generosity',\n",
       " 'Year']"
      ]
     },
     "execution_count": 2,
     "metadata": {},
     "output_type": "execute_result"
    }
   ],
   "source": [
    "years = [\"2018\", \"2019\", \"2020\", \"2021\", \"2022\"]\n",
    "data_frames = [y2018, y2019, y2020, y2021, y2022]\n",
    "for i in range (0,5):\n",
    "    data_frames[i][\"Year\"] = years[i]\n",
    "\n",
    "# Create common columns list so all year data frames are the same\n",
    "common_cols = [\"Country\", \"Happiness Score\", \"Economy (GDP per Capita)\", \"Health (Life Expectancy)\", \"Freedom\", \"Trust in Government\", \"Generosity\", \"Year\"]\n",
    "\n",
    "common_cols"
   ]
  },
  {
   "cell_type": "code",
   "execution_count": 3,
   "metadata": {},
   "outputs": [
    {
     "data": {
      "text/plain": [
       "['Overall rank',\n",
       " 'Country or region',\n",
       " 'Score',\n",
       " 'GDP per capita',\n",
       " 'Social support',\n",
       " 'Healthy life expectancy',\n",
       " 'Freedom to make life choices',\n",
       " 'Generosity',\n",
       " 'Perceptions of corruption',\n",
       " 'Year']"
      ]
     },
     "execution_count": 3,
     "metadata": {},
     "output_type": "execute_result"
    }
   ],
   "source": [
    "y2018.columns.to_list()"
   ]
  },
  {
   "cell_type": "code",
   "execution_count": 4,
   "metadata": {},
   "outputs": [
    {
     "data": {
      "text/html": [
       "<div>\n",
       "<style scoped>\n",
       "    .dataframe tbody tr th:only-of-type {\n",
       "        vertical-align: middle;\n",
       "    }\n",
       "\n",
       "    .dataframe tbody tr th {\n",
       "        vertical-align: top;\n",
       "    }\n",
       "\n",
       "    .dataframe thead th {\n",
       "        text-align: right;\n",
       "    }\n",
       "</style>\n",
       "<table border=\"1\" class=\"dataframe\">\n",
       "  <thead>\n",
       "    <tr style=\"text-align: right;\">\n",
       "      <th></th>\n",
       "      <th>Overall rank</th>\n",
       "      <th>Country or region</th>\n",
       "      <th>Score</th>\n",
       "      <th>GDP per capita</th>\n",
       "      <th>Social support</th>\n",
       "      <th>Healthy life expectancy</th>\n",
       "      <th>Freedom to make life choices</th>\n",
       "      <th>Generosity</th>\n",
       "      <th>Perceptions of corruption</th>\n",
       "      <th>Year</th>\n",
       "    </tr>\n",
       "  </thead>\n",
       "  <tbody>\n",
       "    <tr>\n",
       "      <th>0</th>\n",
       "      <td>1</td>\n",
       "      <td>Finland</td>\n",
       "      <td>7.632</td>\n",
       "      <td>1.305</td>\n",
       "      <td>1.592</td>\n",
       "      <td>0.874</td>\n",
       "      <td>0.681</td>\n",
       "      <td>0.202</td>\n",
       "      <td>0.393</td>\n",
       "      <td>2018</td>\n",
       "    </tr>\n",
       "    <tr>\n",
       "      <th>1</th>\n",
       "      <td>2</td>\n",
       "      <td>Norway</td>\n",
       "      <td>7.594</td>\n",
       "      <td>1.456</td>\n",
       "      <td>1.582</td>\n",
       "      <td>0.861</td>\n",
       "      <td>0.686</td>\n",
       "      <td>0.286</td>\n",
       "      <td>0.340</td>\n",
       "      <td>2018</td>\n",
       "    </tr>\n",
       "    <tr>\n",
       "      <th>2</th>\n",
       "      <td>3</td>\n",
       "      <td>Denmark</td>\n",
       "      <td>7.555</td>\n",
       "      <td>1.351</td>\n",
       "      <td>1.590</td>\n",
       "      <td>0.868</td>\n",
       "      <td>0.683</td>\n",
       "      <td>0.284</td>\n",
       "      <td>0.408</td>\n",
       "      <td>2018</td>\n",
       "    </tr>\n",
       "  </tbody>\n",
       "</table>\n",
       "</div>"
      ],
      "text/plain": [
       "   Overall rank Country or region  Score  GDP per capita  Social support  \\\n",
       "0             1           Finland  7.632           1.305           1.592   \n",
       "1             2            Norway  7.594           1.456           1.582   \n",
       "2             3           Denmark  7.555           1.351           1.590   \n",
       "\n",
       "   Healthy life expectancy  Freedom to make life choices  Generosity  \\\n",
       "0                    0.874                         0.681       0.202   \n",
       "1                    0.861                         0.686       0.286   \n",
       "2                    0.868                         0.683       0.284   \n",
       "\n",
       "   Perceptions of corruption  Year  \n",
       "0                      0.393  2018  \n",
       "1                      0.340  2018  \n",
       "2                      0.408  2018  "
      ]
     },
     "execution_count": 4,
     "metadata": {},
     "output_type": "execute_result"
    }
   ],
   "source": [
    "y2018.head(3)"
   ]
  },
  {
   "cell_type": "code",
   "execution_count": 5,
   "metadata": {},
   "outputs": [
    {
     "data": {
      "text/html": [
       "<div>\n",
       "<style scoped>\n",
       "    .dataframe tbody tr th:only-of-type {\n",
       "        vertical-align: middle;\n",
       "    }\n",
       "\n",
       "    .dataframe tbody tr th {\n",
       "        vertical-align: top;\n",
       "    }\n",
       "\n",
       "    .dataframe thead th {\n",
       "        text-align: right;\n",
       "    }\n",
       "</style>\n",
       "<table border=\"1\" class=\"dataframe\">\n",
       "  <thead>\n",
       "    <tr style=\"text-align: right;\">\n",
       "      <th></th>\n",
       "      <th>Happiness Rank</th>\n",
       "      <th>Country</th>\n",
       "      <th>Happiness Score</th>\n",
       "      <th>Economy (GDP per Capita)</th>\n",
       "      <th>Social support</th>\n",
       "      <th>Health (Life Expectancy)</th>\n",
       "      <th>Freedom</th>\n",
       "      <th>Generosity</th>\n",
       "      <th>Trust in Government</th>\n",
       "      <th>Year</th>\n",
       "    </tr>\n",
       "  </thead>\n",
       "  <tbody>\n",
       "    <tr>\n",
       "      <th>0</th>\n",
       "      <td>1</td>\n",
       "      <td>Finland</td>\n",
       "      <td>7.632</td>\n",
       "      <td>1.305</td>\n",
       "      <td>1.592</td>\n",
       "      <td>0.874</td>\n",
       "      <td>0.681</td>\n",
       "      <td>0.202</td>\n",
       "      <td>0.393</td>\n",
       "      <td>2018</td>\n",
       "    </tr>\n",
       "    <tr>\n",
       "      <th>1</th>\n",
       "      <td>2</td>\n",
       "      <td>Norway</td>\n",
       "      <td>7.594</td>\n",
       "      <td>1.456</td>\n",
       "      <td>1.582</td>\n",
       "      <td>0.861</td>\n",
       "      <td>0.686</td>\n",
       "      <td>0.286</td>\n",
       "      <td>0.340</td>\n",
       "      <td>2018</td>\n",
       "    </tr>\n",
       "    <tr>\n",
       "      <th>2</th>\n",
       "      <td>3</td>\n",
       "      <td>Denmark</td>\n",
       "      <td>7.555</td>\n",
       "      <td>1.351</td>\n",
       "      <td>1.590</td>\n",
       "      <td>0.868</td>\n",
       "      <td>0.683</td>\n",
       "      <td>0.284</td>\n",
       "      <td>0.408</td>\n",
       "      <td>2018</td>\n",
       "    </tr>\n",
       "  </tbody>\n",
       "</table>\n",
       "</div>"
      ],
      "text/plain": [
       "   Happiness Rank  Country  Happiness Score  Economy (GDP per Capita)  \\\n",
       "0               1  Finland            7.632                     1.305   \n",
       "1               2   Norway            7.594                     1.456   \n",
       "2               3  Denmark            7.555                     1.351   \n",
       "\n",
       "   Social support  Health (Life Expectancy)  Freedom  Generosity  \\\n",
       "0           1.592                     0.874    0.681       0.202   \n",
       "1           1.582                     0.861    0.686       0.286   \n",
       "2           1.590                     0.868    0.683       0.284   \n",
       "\n",
       "   Trust in Government  Year  \n",
       "0                0.393  2018  \n",
       "1                0.340  2018  \n",
       "2                0.408  2018  "
      ]
     },
     "execution_count": 5,
     "metadata": {},
     "output_type": "execute_result"
    }
   ],
   "source": [
    "# Rename columns to common column names\n",
    "y2018 = y2018.rename(columns={\"Overall rank\": \"Happiness Rank\", \"Country or region\":\"Country\", \"Score\":\"Happiness Score\", \"GDP per capita\":\"Economy (GDP per Capita)\",\"Healthy life expectancy\":\"Health (Life Expectancy)\",\"Freedom to make life choices\":\"Freedom\",\"Perceptions of corruption\":\"Trust in Government\"})\n",
    "\n",
    "y2018.head(3)"
   ]
  },
  {
   "cell_type": "code",
   "execution_count": 6,
   "metadata": {},
   "outputs": [
    {
     "data": {
      "text/plain": [
       "['Overall rank',\n",
       " 'Country or region',\n",
       " 'Score',\n",
       " 'GDP per capita',\n",
       " 'Social support',\n",
       " 'Healthy life expectancy',\n",
       " 'Freedom to make life choices',\n",
       " 'Generosity',\n",
       " 'Perceptions of corruption',\n",
       " 'Year']"
      ]
     },
     "execution_count": 6,
     "metadata": {},
     "output_type": "execute_result"
    }
   ],
   "source": [
    "y2019.columns.to_list()"
   ]
  },
  {
   "cell_type": "code",
   "execution_count": 7,
   "metadata": {},
   "outputs": [
    {
     "data": {
      "text/html": [
       "<div>\n",
       "<style scoped>\n",
       "    .dataframe tbody tr th:only-of-type {\n",
       "        vertical-align: middle;\n",
       "    }\n",
       "\n",
       "    .dataframe tbody tr th {\n",
       "        vertical-align: top;\n",
       "    }\n",
       "\n",
       "    .dataframe thead th {\n",
       "        text-align: right;\n",
       "    }\n",
       "</style>\n",
       "<table border=\"1\" class=\"dataframe\">\n",
       "  <thead>\n",
       "    <tr style=\"text-align: right;\">\n",
       "      <th></th>\n",
       "      <th>Happiness Rank</th>\n",
       "      <th>Country</th>\n",
       "      <th>Happiness Score</th>\n",
       "      <th>Economy (GDP per Capita)</th>\n",
       "      <th>Social support</th>\n",
       "      <th>Health (Life Expectancy)</th>\n",
       "      <th>Freedom</th>\n",
       "      <th>Generosity</th>\n",
       "      <th>Trust in Government</th>\n",
       "      <th>Year</th>\n",
       "    </tr>\n",
       "  </thead>\n",
       "  <tbody>\n",
       "    <tr>\n",
       "      <th>0</th>\n",
       "      <td>1</td>\n",
       "      <td>Finland</td>\n",
       "      <td>7.769</td>\n",
       "      <td>1.340</td>\n",
       "      <td>1.587</td>\n",
       "      <td>0.986</td>\n",
       "      <td>0.596</td>\n",
       "      <td>0.153</td>\n",
       "      <td>0.393</td>\n",
       "      <td>2019</td>\n",
       "    </tr>\n",
       "    <tr>\n",
       "      <th>1</th>\n",
       "      <td>2</td>\n",
       "      <td>Denmark</td>\n",
       "      <td>7.600</td>\n",
       "      <td>1.383</td>\n",
       "      <td>1.573</td>\n",
       "      <td>0.996</td>\n",
       "      <td>0.592</td>\n",
       "      <td>0.252</td>\n",
       "      <td>0.410</td>\n",
       "      <td>2019</td>\n",
       "    </tr>\n",
       "    <tr>\n",
       "      <th>2</th>\n",
       "      <td>3</td>\n",
       "      <td>Norway</td>\n",
       "      <td>7.554</td>\n",
       "      <td>1.488</td>\n",
       "      <td>1.582</td>\n",
       "      <td>1.028</td>\n",
       "      <td>0.603</td>\n",
       "      <td>0.271</td>\n",
       "      <td>0.341</td>\n",
       "      <td>2019</td>\n",
       "    </tr>\n",
       "  </tbody>\n",
       "</table>\n",
       "</div>"
      ],
      "text/plain": [
       "   Happiness Rank  Country  Happiness Score  Economy (GDP per Capita)  \\\n",
       "0               1  Finland            7.769                     1.340   \n",
       "1               2  Denmark            7.600                     1.383   \n",
       "2               3   Norway            7.554                     1.488   \n",
       "\n",
       "   Social support  Health (Life Expectancy)  Freedom  Generosity  \\\n",
       "0           1.587                     0.986    0.596       0.153   \n",
       "1           1.573                     0.996    0.592       0.252   \n",
       "2           1.582                     1.028    0.603       0.271   \n",
       "\n",
       "   Trust in Government  Year  \n",
       "0                0.393  2019  \n",
       "1                0.410  2019  \n",
       "2                0.341  2019  "
      ]
     },
     "execution_count": 7,
     "metadata": {},
     "output_type": "execute_result"
    }
   ],
   "source": [
    "# Rename columns to common column names\n",
    "y2019 = y2019.rename(columns={\"Overall rank\": \"Happiness Rank\", \"Country or region\":\"Country\", \"Score\":\"Happiness Score\", \"GDP per capita\":\"Economy (GDP per Capita)\",\"Healthy life expectancy\":\"Health (Life Expectancy)\",\"Freedom to make life choices\":\"Freedom\",\"Perceptions of corruption\":\"Trust in Government\"})\n",
    "\n",
    "y2019.head(3)"
   ]
  },
  {
   "cell_type": "code",
   "execution_count": 8,
   "metadata": {},
   "outputs": [
    {
     "data": {
      "text/plain": [
       "['Country name',\n",
       " 'Regional indicator',\n",
       " 'Ladder score',\n",
       " 'Standard error of ladder score',\n",
       " 'upperwhisker',\n",
       " 'lowerwhisker',\n",
       " 'Logged GDP per capita',\n",
       " 'Social support',\n",
       " 'Healthy life expectancy',\n",
       " 'Freedom to make life choices',\n",
       " 'Generosity',\n",
       " 'Perceptions of corruption',\n",
       " 'Ladder score in Dystopia',\n",
       " 'Explained by: Log GDP per capita',\n",
       " 'Explained by: Social support',\n",
       " 'Explained by: Healthy life expectancy',\n",
       " 'Explained by: Freedom to make life choices',\n",
       " 'Explained by: Generosity',\n",
       " 'Explained by: Perceptions of corruption',\n",
       " 'Dystopia + residual',\n",
       " 'Year']"
      ]
     },
     "execution_count": 8,
     "metadata": {},
     "output_type": "execute_result"
    }
   ],
   "source": [
    "y2020.columns.to_list()"
   ]
  },
  {
   "cell_type": "code",
   "execution_count": 9,
   "metadata": {},
   "outputs": [
    {
     "data": {
      "text/html": [
       "<div>\n",
       "<style scoped>\n",
       "    .dataframe tbody tr th:only-of-type {\n",
       "        vertical-align: middle;\n",
       "    }\n",
       "\n",
       "    .dataframe tbody tr th {\n",
       "        vertical-align: top;\n",
       "    }\n",
       "\n",
       "    .dataframe thead th {\n",
       "        text-align: right;\n",
       "    }\n",
       "</style>\n",
       "<table border=\"1\" class=\"dataframe\">\n",
       "  <thead>\n",
       "    <tr style=\"text-align: right;\">\n",
       "      <th></th>\n",
       "      <th>Country name</th>\n",
       "      <th>Regional indicator</th>\n",
       "      <th>Ladder score</th>\n",
       "      <th>Standard error of ladder score</th>\n",
       "      <th>upperwhisker</th>\n",
       "      <th>lowerwhisker</th>\n",
       "      <th>Logged GDP per capita</th>\n",
       "      <th>Social support</th>\n",
       "      <th>Healthy life expectancy</th>\n",
       "      <th>Freedom to make life choices</th>\n",
       "      <th>...</th>\n",
       "      <th>Perceptions of corruption</th>\n",
       "      <th>Ladder score in Dystopia</th>\n",
       "      <th>Explained by: Log GDP per capita</th>\n",
       "      <th>Explained by: Social support</th>\n",
       "      <th>Explained by: Healthy life expectancy</th>\n",
       "      <th>Explained by: Freedom to make life choices</th>\n",
       "      <th>Explained by: Generosity</th>\n",
       "      <th>Explained by: Perceptions of corruption</th>\n",
       "      <th>Dystopia + residual</th>\n",
       "      <th>Year</th>\n",
       "    </tr>\n",
       "  </thead>\n",
       "  <tbody>\n",
       "    <tr>\n",
       "      <th>0</th>\n",
       "      <td>Finland</td>\n",
       "      <td>Western Europe</td>\n",
       "      <td>7.8087</td>\n",
       "      <td>0.031156</td>\n",
       "      <td>7.869766</td>\n",
       "      <td>7.747634</td>\n",
       "      <td>10.639267</td>\n",
       "      <td>0.954330</td>\n",
       "      <td>71.900825</td>\n",
       "      <td>0.949172</td>\n",
       "      <td>...</td>\n",
       "      <td>0.195445</td>\n",
       "      <td>1.972317</td>\n",
       "      <td>1.285190</td>\n",
       "      <td>1.499526</td>\n",
       "      <td>0.961271</td>\n",
       "      <td>0.662317</td>\n",
       "      <td>0.159670</td>\n",
       "      <td>0.477857</td>\n",
       "      <td>2.762835</td>\n",
       "      <td>2020</td>\n",
       "    </tr>\n",
       "    <tr>\n",
       "      <th>1</th>\n",
       "      <td>Denmark</td>\n",
       "      <td>Western Europe</td>\n",
       "      <td>7.6456</td>\n",
       "      <td>0.033492</td>\n",
       "      <td>7.711245</td>\n",
       "      <td>7.579955</td>\n",
       "      <td>10.774001</td>\n",
       "      <td>0.955991</td>\n",
       "      <td>72.402504</td>\n",
       "      <td>0.951444</td>\n",
       "      <td>...</td>\n",
       "      <td>0.168489</td>\n",
       "      <td>1.972317</td>\n",
       "      <td>1.326949</td>\n",
       "      <td>1.503449</td>\n",
       "      <td>0.979333</td>\n",
       "      <td>0.665040</td>\n",
       "      <td>0.242793</td>\n",
       "      <td>0.495260</td>\n",
       "      <td>2.432741</td>\n",
       "      <td>2020</td>\n",
       "    </tr>\n",
       "    <tr>\n",
       "      <th>2</th>\n",
       "      <td>Switzerland</td>\n",
       "      <td>Western Europe</td>\n",
       "      <td>7.5599</td>\n",
       "      <td>0.035014</td>\n",
       "      <td>7.628528</td>\n",
       "      <td>7.491272</td>\n",
       "      <td>10.979933</td>\n",
       "      <td>0.942847</td>\n",
       "      <td>74.102448</td>\n",
       "      <td>0.921337</td>\n",
       "      <td>...</td>\n",
       "      <td>0.303728</td>\n",
       "      <td>1.972317</td>\n",
       "      <td>1.390774</td>\n",
       "      <td>1.472403</td>\n",
       "      <td>1.040533</td>\n",
       "      <td>0.628954</td>\n",
       "      <td>0.269056</td>\n",
       "      <td>0.407946</td>\n",
       "      <td>2.350267</td>\n",
       "      <td>2020</td>\n",
       "    </tr>\n",
       "  </tbody>\n",
       "</table>\n",
       "<p>3 rows × 21 columns</p>\n",
       "</div>"
      ],
      "text/plain": [
       "  Country name Regional indicator  Ladder score  \\\n",
       "0      Finland     Western Europe        7.8087   \n",
       "1      Denmark     Western Europe        7.6456   \n",
       "2  Switzerland     Western Europe        7.5599   \n",
       "\n",
       "   Standard error of ladder score  upperwhisker  lowerwhisker  \\\n",
       "0                        0.031156      7.869766      7.747634   \n",
       "1                        0.033492      7.711245      7.579955   \n",
       "2                        0.035014      7.628528      7.491272   \n",
       "\n",
       "   Logged GDP per capita  Social support  Healthy life expectancy  \\\n",
       "0              10.639267        0.954330                71.900825   \n",
       "1              10.774001        0.955991                72.402504   \n",
       "2              10.979933        0.942847                74.102448   \n",
       "\n",
       "   Freedom to make life choices  ...  Perceptions of corruption  \\\n",
       "0                      0.949172  ...                   0.195445   \n",
       "1                      0.951444  ...                   0.168489   \n",
       "2                      0.921337  ...                   0.303728   \n",
       "\n",
       "   Ladder score in Dystopia  Explained by: Log GDP per capita  \\\n",
       "0                  1.972317                          1.285190   \n",
       "1                  1.972317                          1.326949   \n",
       "2                  1.972317                          1.390774   \n",
       "\n",
       "   Explained by: Social support  Explained by: Healthy life expectancy  \\\n",
       "0                      1.499526                               0.961271   \n",
       "1                      1.503449                               0.979333   \n",
       "2                      1.472403                               1.040533   \n",
       "\n",
       "   Explained by: Freedom to make life choices  Explained by: Generosity  \\\n",
       "0                                    0.662317                  0.159670   \n",
       "1                                    0.665040                  0.242793   \n",
       "2                                    0.628954                  0.269056   \n",
       "\n",
       "   Explained by: Perceptions of corruption  Dystopia + residual  Year  \n",
       "0                                 0.477857             2.762835  2020  \n",
       "1                                 0.495260             2.432741  2020  \n",
       "2                                 0.407946             2.350267  2020  \n",
       "\n",
       "[3 rows x 21 columns]"
      ]
     },
     "execution_count": 9,
     "metadata": {},
     "output_type": "execute_result"
    }
   ],
   "source": [
    "y2020.head(3)"
   ]
  },
  {
   "cell_type": "code",
   "execution_count": 10,
   "metadata": {},
   "outputs": [
    {
     "data": {
      "text/html": [
       "<div>\n",
       "<style scoped>\n",
       "    .dataframe tbody tr th:only-of-type {\n",
       "        vertical-align: middle;\n",
       "    }\n",
       "\n",
       "    .dataframe tbody tr th {\n",
       "        vertical-align: top;\n",
       "    }\n",
       "\n",
       "    .dataframe thead th {\n",
       "        text-align: right;\n",
       "    }\n",
       "</style>\n",
       "<table border=\"1\" class=\"dataframe\">\n",
       "  <thead>\n",
       "    <tr style=\"text-align: right;\">\n",
       "      <th></th>\n",
       "      <th>Country</th>\n",
       "      <th>Region</th>\n",
       "      <th>Happiness Score</th>\n",
       "      <th>Standard error of ladder score</th>\n",
       "      <th>upperwhisker</th>\n",
       "      <th>lowerwhisker</th>\n",
       "      <th>Logged GDP per capita</th>\n",
       "      <th>Social support</th>\n",
       "      <th>Healthy life expectancy</th>\n",
       "      <th>Freedom to make life choices</th>\n",
       "      <th>...</th>\n",
       "      <th>Perceptions of corruption</th>\n",
       "      <th>Ladder score in Dystopia</th>\n",
       "      <th>Economy (GDP per Capita)</th>\n",
       "      <th>Social Support</th>\n",
       "      <th>Health (Life Expectancy)</th>\n",
       "      <th>Freedom</th>\n",
       "      <th>Generosity</th>\n",
       "      <th>Trust in Government</th>\n",
       "      <th>Dystopia + residual</th>\n",
       "      <th>Year</th>\n",
       "    </tr>\n",
       "  </thead>\n",
       "  <tbody>\n",
       "    <tr>\n",
       "      <th>0</th>\n",
       "      <td>Finland</td>\n",
       "      <td>Western Europe</td>\n",
       "      <td>7.8087</td>\n",
       "      <td>0.031156</td>\n",
       "      <td>7.869766</td>\n",
       "      <td>7.747634</td>\n",
       "      <td>10.639267</td>\n",
       "      <td>0.954330</td>\n",
       "      <td>71.900825</td>\n",
       "      <td>0.949172</td>\n",
       "      <td>...</td>\n",
       "      <td>0.195445</td>\n",
       "      <td>1.972317</td>\n",
       "      <td>1.285190</td>\n",
       "      <td>1.499526</td>\n",
       "      <td>0.961271</td>\n",
       "      <td>0.662317</td>\n",
       "      <td>0.159670</td>\n",
       "      <td>0.477857</td>\n",
       "      <td>2.762835</td>\n",
       "      <td>2020</td>\n",
       "    </tr>\n",
       "    <tr>\n",
       "      <th>1</th>\n",
       "      <td>Denmark</td>\n",
       "      <td>Western Europe</td>\n",
       "      <td>7.6456</td>\n",
       "      <td>0.033492</td>\n",
       "      <td>7.711245</td>\n",
       "      <td>7.579955</td>\n",
       "      <td>10.774001</td>\n",
       "      <td>0.955991</td>\n",
       "      <td>72.402504</td>\n",
       "      <td>0.951444</td>\n",
       "      <td>...</td>\n",
       "      <td>0.168489</td>\n",
       "      <td>1.972317</td>\n",
       "      <td>1.326949</td>\n",
       "      <td>1.503449</td>\n",
       "      <td>0.979333</td>\n",
       "      <td>0.665040</td>\n",
       "      <td>0.242793</td>\n",
       "      <td>0.495260</td>\n",
       "      <td>2.432741</td>\n",
       "      <td>2020</td>\n",
       "    </tr>\n",
       "    <tr>\n",
       "      <th>2</th>\n",
       "      <td>Switzerland</td>\n",
       "      <td>Western Europe</td>\n",
       "      <td>7.5599</td>\n",
       "      <td>0.035014</td>\n",
       "      <td>7.628528</td>\n",
       "      <td>7.491272</td>\n",
       "      <td>10.979933</td>\n",
       "      <td>0.942847</td>\n",
       "      <td>74.102448</td>\n",
       "      <td>0.921337</td>\n",
       "      <td>...</td>\n",
       "      <td>0.303728</td>\n",
       "      <td>1.972317</td>\n",
       "      <td>1.390774</td>\n",
       "      <td>1.472403</td>\n",
       "      <td>1.040533</td>\n",
       "      <td>0.628954</td>\n",
       "      <td>0.269056</td>\n",
       "      <td>0.407946</td>\n",
       "      <td>2.350267</td>\n",
       "      <td>2020</td>\n",
       "    </tr>\n",
       "  </tbody>\n",
       "</table>\n",
       "<p>3 rows × 21 columns</p>\n",
       "</div>"
      ],
      "text/plain": [
       "       Country          Region  Happiness Score  \\\n",
       "0      Finland  Western Europe           7.8087   \n",
       "1      Denmark  Western Europe           7.6456   \n",
       "2  Switzerland  Western Europe           7.5599   \n",
       "\n",
       "   Standard error of ladder score  upperwhisker  lowerwhisker  \\\n",
       "0                        0.031156      7.869766      7.747634   \n",
       "1                        0.033492      7.711245      7.579955   \n",
       "2                        0.035014      7.628528      7.491272   \n",
       "\n",
       "   Logged GDP per capita  Social support  Healthy life expectancy  \\\n",
       "0              10.639267        0.954330                71.900825   \n",
       "1              10.774001        0.955991                72.402504   \n",
       "2              10.979933        0.942847                74.102448   \n",
       "\n",
       "   Freedom to make life choices  ...  Perceptions of corruption  \\\n",
       "0                      0.949172  ...                   0.195445   \n",
       "1                      0.951444  ...                   0.168489   \n",
       "2                      0.921337  ...                   0.303728   \n",
       "\n",
       "   Ladder score in Dystopia  Economy (GDP per Capita)  Social Support  \\\n",
       "0                  1.972317                  1.285190        1.499526   \n",
       "1                  1.972317                  1.326949        1.503449   \n",
       "2                  1.972317                  1.390774        1.472403   \n",
       "\n",
       "   Health (Life Expectancy)   Freedom  Generosity  Trust in Government  \\\n",
       "0                  0.961271  0.662317    0.159670             0.477857   \n",
       "1                  0.979333  0.665040    0.242793             0.495260   \n",
       "2                  1.040533  0.628954    0.269056             0.407946   \n",
       "\n",
       "   Dystopia + residual  Year  \n",
       "0             2.762835  2020  \n",
       "1             2.432741  2020  \n",
       "2             2.350267  2020  \n",
       "\n",
       "[3 rows x 21 columns]"
      ]
     },
     "execution_count": 10,
     "metadata": {},
     "output_type": "execute_result"
    }
   ],
   "source": [
    "# Rename columns to common column names\n",
    "y2020 = y2020.rename(columns={\"Country name\":\"Country\",\"Regional indicator\": \"Region\",\"Ladder score\":\"Happiness Score\",\"Explained by: Social support\":\"Social Support\",\"Explained by: Healthy life expectancy\":\"Health (Life Expectancy)\",\"Explained by: Freedom to make life choices\":\"Freedom\",\"Explained by: Perceptions of corruption\":\"Trust in Government\",\"Explained by: Log GDP per capita\":\"Economy (GDP per Capita)\",\"Explained by: Generosity\":\"Generosity\"})\n",
    "\n",
    "y2020.head(3)"
   ]
  },
  {
   "cell_type": "code",
   "execution_count": 11,
   "metadata": {},
   "outputs": [
    {
     "data": {
      "text/html": [
       "<div>\n",
       "<style scoped>\n",
       "    .dataframe tbody tr th:only-of-type {\n",
       "        vertical-align: middle;\n",
       "    }\n",
       "\n",
       "    .dataframe tbody tr th {\n",
       "        vertical-align: top;\n",
       "    }\n",
       "\n",
       "    .dataframe thead th {\n",
       "        text-align: right;\n",
       "    }\n",
       "</style>\n",
       "<table border=\"1\" class=\"dataframe\">\n",
       "  <thead>\n",
       "    <tr style=\"text-align: right;\">\n",
       "      <th></th>\n",
       "      <th>Country</th>\n",
       "      <th>Region</th>\n",
       "      <th>Happiness Score</th>\n",
       "      <th>Standard error of ladder score</th>\n",
       "      <th>upperwhisker</th>\n",
       "      <th>lowerwhisker</th>\n",
       "      <th>Logged GDP per capita</th>\n",
       "      <th>Social support</th>\n",
       "      <th>Healthy life expectancy</th>\n",
       "      <th>Freedom to make life choices</th>\n",
       "      <th>Perceptions of corruption</th>\n",
       "      <th>Ladder score in Dystopia</th>\n",
       "      <th>Economy (GDP per Capita)</th>\n",
       "      <th>Social Support</th>\n",
       "      <th>Health (Life Expectancy)</th>\n",
       "      <th>Freedom</th>\n",
       "      <th>Generosity</th>\n",
       "      <th>Trust in Government</th>\n",
       "      <th>Dystopia + residual</th>\n",
       "      <th>Year</th>\n",
       "    </tr>\n",
       "  </thead>\n",
       "  <tbody>\n",
       "    <tr>\n",
       "      <th>0</th>\n",
       "      <td>Finland</td>\n",
       "      <td>Western Europe</td>\n",
       "      <td>7.8087</td>\n",
       "      <td>0.031156</td>\n",
       "      <td>7.869766</td>\n",
       "      <td>7.747634</td>\n",
       "      <td>10.639267</td>\n",
       "      <td>0.954330</td>\n",
       "      <td>71.900825</td>\n",
       "      <td>0.949172</td>\n",
       "      <td>0.195445</td>\n",
       "      <td>1.972317</td>\n",
       "      <td>1.285190</td>\n",
       "      <td>1.499526</td>\n",
       "      <td>0.961271</td>\n",
       "      <td>0.662317</td>\n",
       "      <td>0.159670</td>\n",
       "      <td>0.477857</td>\n",
       "      <td>2.762835</td>\n",
       "      <td>2020</td>\n",
       "    </tr>\n",
       "    <tr>\n",
       "      <th>1</th>\n",
       "      <td>Denmark</td>\n",
       "      <td>Western Europe</td>\n",
       "      <td>7.6456</td>\n",
       "      <td>0.033492</td>\n",
       "      <td>7.711245</td>\n",
       "      <td>7.579955</td>\n",
       "      <td>10.774001</td>\n",
       "      <td>0.955991</td>\n",
       "      <td>72.402504</td>\n",
       "      <td>0.951444</td>\n",
       "      <td>0.168489</td>\n",
       "      <td>1.972317</td>\n",
       "      <td>1.326949</td>\n",
       "      <td>1.503449</td>\n",
       "      <td>0.979333</td>\n",
       "      <td>0.665040</td>\n",
       "      <td>0.242793</td>\n",
       "      <td>0.495260</td>\n",
       "      <td>2.432741</td>\n",
       "      <td>2020</td>\n",
       "    </tr>\n",
       "    <tr>\n",
       "      <th>2</th>\n",
       "      <td>Switzerland</td>\n",
       "      <td>Western Europe</td>\n",
       "      <td>7.5599</td>\n",
       "      <td>0.035014</td>\n",
       "      <td>7.628528</td>\n",
       "      <td>7.491272</td>\n",
       "      <td>10.979933</td>\n",
       "      <td>0.942847</td>\n",
       "      <td>74.102448</td>\n",
       "      <td>0.921337</td>\n",
       "      <td>0.303728</td>\n",
       "      <td>1.972317</td>\n",
       "      <td>1.390774</td>\n",
       "      <td>1.472403</td>\n",
       "      <td>1.040533</td>\n",
       "      <td>0.628954</td>\n",
       "      <td>0.269056</td>\n",
       "      <td>0.407946</td>\n",
       "      <td>2.350267</td>\n",
       "      <td>2020</td>\n",
       "    </tr>\n",
       "    <tr>\n",
       "      <th>3</th>\n",
       "      <td>Iceland</td>\n",
       "      <td>Western Europe</td>\n",
       "      <td>7.5045</td>\n",
       "      <td>0.059616</td>\n",
       "      <td>7.621347</td>\n",
       "      <td>7.387653</td>\n",
       "      <td>10.772559</td>\n",
       "      <td>0.974670</td>\n",
       "      <td>73.000000</td>\n",
       "      <td>0.948892</td>\n",
       "      <td>0.711710</td>\n",
       "      <td>1.972317</td>\n",
       "      <td>1.326502</td>\n",
       "      <td>1.547567</td>\n",
       "      <td>1.000843</td>\n",
       "      <td>0.661981</td>\n",
       "      <td>0.362330</td>\n",
       "      <td>0.144541</td>\n",
       "      <td>2.460688</td>\n",
       "      <td>2020</td>\n",
       "    </tr>\n",
       "    <tr>\n",
       "      <th>4</th>\n",
       "      <td>Norway</td>\n",
       "      <td>Western Europe</td>\n",
       "      <td>7.4880</td>\n",
       "      <td>0.034837</td>\n",
       "      <td>7.556281</td>\n",
       "      <td>7.419719</td>\n",
       "      <td>11.087804</td>\n",
       "      <td>0.952487</td>\n",
       "      <td>73.200783</td>\n",
       "      <td>0.955750</td>\n",
       "      <td>0.263218</td>\n",
       "      <td>1.972317</td>\n",
       "      <td>1.424207</td>\n",
       "      <td>1.495173</td>\n",
       "      <td>1.008072</td>\n",
       "      <td>0.670201</td>\n",
       "      <td>0.287985</td>\n",
       "      <td>0.434101</td>\n",
       "      <td>2.168266</td>\n",
       "      <td>2020</td>\n",
       "    </tr>\n",
       "  </tbody>\n",
       "</table>\n",
       "</div>"
      ],
      "text/plain": [
       "       Country          Region  Happiness Score  \\\n",
       "0      Finland  Western Europe           7.8087   \n",
       "1      Denmark  Western Europe           7.6456   \n",
       "2  Switzerland  Western Europe           7.5599   \n",
       "3      Iceland  Western Europe           7.5045   \n",
       "4       Norway  Western Europe           7.4880   \n",
       "\n",
       "   Standard error of ladder score  upperwhisker  lowerwhisker  \\\n",
       "0                        0.031156      7.869766      7.747634   \n",
       "1                        0.033492      7.711245      7.579955   \n",
       "2                        0.035014      7.628528      7.491272   \n",
       "3                        0.059616      7.621347      7.387653   \n",
       "4                        0.034837      7.556281      7.419719   \n",
       "\n",
       "   Logged GDP per capita  Social support  Healthy life expectancy  \\\n",
       "0              10.639267        0.954330                71.900825   \n",
       "1              10.774001        0.955991                72.402504   \n",
       "2              10.979933        0.942847                74.102448   \n",
       "3              10.772559        0.974670                73.000000   \n",
       "4              11.087804        0.952487                73.200783   \n",
       "\n",
       "   Freedom to make life choices  Perceptions of corruption  \\\n",
       "0                      0.949172                   0.195445   \n",
       "1                      0.951444                   0.168489   \n",
       "2                      0.921337                   0.303728   \n",
       "3                      0.948892                   0.711710   \n",
       "4                      0.955750                   0.263218   \n",
       "\n",
       "   Ladder score in Dystopia  Economy (GDP per Capita)  Social Support  \\\n",
       "0                  1.972317                  1.285190        1.499526   \n",
       "1                  1.972317                  1.326949        1.503449   \n",
       "2                  1.972317                  1.390774        1.472403   \n",
       "3                  1.972317                  1.326502        1.547567   \n",
       "4                  1.972317                  1.424207        1.495173   \n",
       "\n",
       "   Health (Life Expectancy)   Freedom  Generosity  Trust in Government  \\\n",
       "0                  0.961271  0.662317    0.159670             0.477857   \n",
       "1                  0.979333  0.665040    0.242793             0.495260   \n",
       "2                  1.040533  0.628954    0.269056             0.407946   \n",
       "3                  1.000843  0.661981    0.362330             0.144541   \n",
       "4                  1.008072  0.670201    0.287985             0.434101   \n",
       "\n",
       "   Dystopia + residual  Year  \n",
       "0             2.762835  2020  \n",
       "1             2.432741  2020  \n",
       "2             2.350267  2020  \n",
       "3             2.460688  2020  \n",
       "4             2.168266  2020  "
      ]
     },
     "execution_count": 11,
     "metadata": {},
     "output_type": "execute_result"
    }
   ],
   "source": [
    "# Get rid of duplicates\n",
    "y2020 = y2020.loc[:,~y2020.columns.duplicated(keep='last')]\n",
    "\n",
    "y2020.head()"
   ]
  },
  {
   "cell_type": "code",
   "execution_count": 12,
   "metadata": {},
   "outputs": [
    {
     "data": {
      "text/plain": [
       "['Country name',\n",
       " 'Regional indicator',\n",
       " 'Ladder score',\n",
       " 'Standard error of ladder score',\n",
       " 'upperwhisker',\n",
       " 'lowerwhisker',\n",
       " 'Logged GDP per capita',\n",
       " 'Social support',\n",
       " 'Healthy life expectancy',\n",
       " 'Freedom to make life choices',\n",
       " 'Generosity',\n",
       " 'Perceptions of corruption',\n",
       " 'Ladder score in Dystopia',\n",
       " 'Explained by: Log GDP per capita',\n",
       " 'Explained by: Social support',\n",
       " 'Explained by: Healthy life expectancy',\n",
       " 'Explained by: Freedom to make life choices',\n",
       " 'Explained by: Generosity',\n",
       " 'Explained by: Perceptions of corruption',\n",
       " 'Dystopia + residual',\n",
       " 'Year']"
      ]
     },
     "execution_count": 12,
     "metadata": {},
     "output_type": "execute_result"
    }
   ],
   "source": [
    "y2021.columns.to_list()"
   ]
  },
  {
   "cell_type": "code",
   "execution_count": 13,
   "metadata": {},
   "outputs": [
    {
     "data": {
      "text/html": [
       "<div>\n",
       "<style scoped>\n",
       "    .dataframe tbody tr th:only-of-type {\n",
       "        vertical-align: middle;\n",
       "    }\n",
       "\n",
       "    .dataframe tbody tr th {\n",
       "        vertical-align: top;\n",
       "    }\n",
       "\n",
       "    .dataframe thead th {\n",
       "        text-align: right;\n",
       "    }\n",
       "</style>\n",
       "<table border=\"1\" class=\"dataframe\">\n",
       "  <thead>\n",
       "    <tr style=\"text-align: right;\">\n",
       "      <th></th>\n",
       "      <th>Country</th>\n",
       "      <th>Region</th>\n",
       "      <th>Happiness Score</th>\n",
       "      <th>Standard error of ladder score</th>\n",
       "      <th>upperwhisker</th>\n",
       "      <th>lowerwhisker</th>\n",
       "      <th>Logged GDP per capita</th>\n",
       "      <th>Social support</th>\n",
       "      <th>Healthy life expectancy</th>\n",
       "      <th>Freedom to make life choices</th>\n",
       "      <th>...</th>\n",
       "      <th>Perceptions of corruption</th>\n",
       "      <th>Ladder score in Dystopia</th>\n",
       "      <th>Economy (GDP per Capita)</th>\n",
       "      <th>Social Support</th>\n",
       "      <th>Health (Life Expectancy)</th>\n",
       "      <th>Freedom</th>\n",
       "      <th>Generosity</th>\n",
       "      <th>Trust in Government</th>\n",
       "      <th>Dystopia + residual</th>\n",
       "      <th>Year</th>\n",
       "    </tr>\n",
       "  </thead>\n",
       "  <tbody>\n",
       "    <tr>\n",
       "      <th>0</th>\n",
       "      <td>Finland</td>\n",
       "      <td>Western Europe</td>\n",
       "      <td>7.842</td>\n",
       "      <td>0.032</td>\n",
       "      <td>7.904</td>\n",
       "      <td>7.780</td>\n",
       "      <td>10.775</td>\n",
       "      <td>0.954</td>\n",
       "      <td>72.0</td>\n",
       "      <td>0.949</td>\n",
       "      <td>...</td>\n",
       "      <td>0.186</td>\n",
       "      <td>2.43</td>\n",
       "      <td>1.446</td>\n",
       "      <td>1.106</td>\n",
       "      <td>0.741</td>\n",
       "      <td>0.691</td>\n",
       "      <td>0.124</td>\n",
       "      <td>0.481</td>\n",
       "      <td>3.253</td>\n",
       "      <td>2021</td>\n",
       "    </tr>\n",
       "    <tr>\n",
       "      <th>1</th>\n",
       "      <td>Denmark</td>\n",
       "      <td>Western Europe</td>\n",
       "      <td>7.620</td>\n",
       "      <td>0.035</td>\n",
       "      <td>7.687</td>\n",
       "      <td>7.552</td>\n",
       "      <td>10.933</td>\n",
       "      <td>0.954</td>\n",
       "      <td>72.7</td>\n",
       "      <td>0.946</td>\n",
       "      <td>...</td>\n",
       "      <td>0.179</td>\n",
       "      <td>2.43</td>\n",
       "      <td>1.502</td>\n",
       "      <td>1.108</td>\n",
       "      <td>0.763</td>\n",
       "      <td>0.686</td>\n",
       "      <td>0.208</td>\n",
       "      <td>0.485</td>\n",
       "      <td>2.868</td>\n",
       "      <td>2021</td>\n",
       "    </tr>\n",
       "    <tr>\n",
       "      <th>2</th>\n",
       "      <td>Switzerland</td>\n",
       "      <td>Western Europe</td>\n",
       "      <td>7.571</td>\n",
       "      <td>0.036</td>\n",
       "      <td>7.643</td>\n",
       "      <td>7.500</td>\n",
       "      <td>11.117</td>\n",
       "      <td>0.942</td>\n",
       "      <td>74.4</td>\n",
       "      <td>0.919</td>\n",
       "      <td>...</td>\n",
       "      <td>0.292</td>\n",
       "      <td>2.43</td>\n",
       "      <td>1.566</td>\n",
       "      <td>1.079</td>\n",
       "      <td>0.816</td>\n",
       "      <td>0.653</td>\n",
       "      <td>0.204</td>\n",
       "      <td>0.413</td>\n",
       "      <td>2.839</td>\n",
       "      <td>2021</td>\n",
       "    </tr>\n",
       "  </tbody>\n",
       "</table>\n",
       "<p>3 rows × 21 columns</p>\n",
       "</div>"
      ],
      "text/plain": [
       "       Country          Region  Happiness Score  \\\n",
       "0      Finland  Western Europe            7.842   \n",
       "1      Denmark  Western Europe            7.620   \n",
       "2  Switzerland  Western Europe            7.571   \n",
       "\n",
       "   Standard error of ladder score  upperwhisker  lowerwhisker  \\\n",
       "0                           0.032         7.904         7.780   \n",
       "1                           0.035         7.687         7.552   \n",
       "2                           0.036         7.643         7.500   \n",
       "\n",
       "   Logged GDP per capita  Social support  Healthy life expectancy  \\\n",
       "0                 10.775           0.954                     72.0   \n",
       "1                 10.933           0.954                     72.7   \n",
       "2                 11.117           0.942                     74.4   \n",
       "\n",
       "   Freedom to make life choices  ...  Perceptions of corruption  \\\n",
       "0                         0.949  ...                      0.186   \n",
       "1                         0.946  ...                      0.179   \n",
       "2                         0.919  ...                      0.292   \n",
       "\n",
       "   Ladder score in Dystopia  Economy (GDP per Capita)  Social Support  \\\n",
       "0                      2.43                     1.446           1.106   \n",
       "1                      2.43                     1.502           1.108   \n",
       "2                      2.43                     1.566           1.079   \n",
       "\n",
       "   Health (Life Expectancy)  Freedom  Generosity  Trust in Government  \\\n",
       "0                     0.741    0.691       0.124                0.481   \n",
       "1                     0.763    0.686       0.208                0.485   \n",
       "2                     0.816    0.653       0.204                0.413   \n",
       "\n",
       "   Dystopia + residual  Year  \n",
       "0                3.253  2021  \n",
       "1                2.868  2021  \n",
       "2                2.839  2021  \n",
       "\n",
       "[3 rows x 21 columns]"
      ]
     },
     "execution_count": 13,
     "metadata": {},
     "output_type": "execute_result"
    }
   ],
   "source": [
    "# Rename columns to common column names\n",
    "y2021 = y2021.rename(columns={\"Country name\":\"Country\",\"Regional indicator\":\"Region\",\"Ladder score\":\"Happiness Score\",\"Explained by: Social support\":\"Social Support\",\"Explained by: Healthy life expectancy\":\"Health (Life Expectancy)\",\"Explained by: Freedom to make life choices\":\"Freedom\",\"Explained by: Perceptions of corruption\":\"Trust in Government\",\"Explained by: Log GDP per capita\":\"Economy (GDP per Capita)\",\"Explained by: Generosity\":\"Generosity\"})\n",
    "\n",
    "y2021.head(3)"
   ]
  },
  {
   "cell_type": "code",
   "execution_count": 14,
   "metadata": {},
   "outputs": [
    {
     "data": {
      "text/html": [
       "<div>\n",
       "<style scoped>\n",
       "    .dataframe tbody tr th:only-of-type {\n",
       "        vertical-align: middle;\n",
       "    }\n",
       "\n",
       "    .dataframe tbody tr th {\n",
       "        vertical-align: top;\n",
       "    }\n",
       "\n",
       "    .dataframe thead th {\n",
       "        text-align: right;\n",
       "    }\n",
       "</style>\n",
       "<table border=\"1\" class=\"dataframe\">\n",
       "  <thead>\n",
       "    <tr style=\"text-align: right;\">\n",
       "      <th></th>\n",
       "      <th>Country</th>\n",
       "      <th>Region</th>\n",
       "      <th>Happiness Score</th>\n",
       "      <th>Standard error of ladder score</th>\n",
       "      <th>upperwhisker</th>\n",
       "      <th>lowerwhisker</th>\n",
       "      <th>Logged GDP per capita</th>\n",
       "      <th>Social support</th>\n",
       "      <th>Healthy life expectancy</th>\n",
       "      <th>Freedom to make life choices</th>\n",
       "      <th>Perceptions of corruption</th>\n",
       "      <th>Ladder score in Dystopia</th>\n",
       "      <th>Economy (GDP per Capita)</th>\n",
       "      <th>Social Support</th>\n",
       "      <th>Health (Life Expectancy)</th>\n",
       "      <th>Freedom</th>\n",
       "      <th>Generosity</th>\n",
       "      <th>Trust in Government</th>\n",
       "      <th>Dystopia + residual</th>\n",
       "      <th>Year</th>\n",
       "    </tr>\n",
       "  </thead>\n",
       "  <tbody>\n",
       "    <tr>\n",
       "      <th>0</th>\n",
       "      <td>Finland</td>\n",
       "      <td>Western Europe</td>\n",
       "      <td>7.842</td>\n",
       "      <td>0.032</td>\n",
       "      <td>7.904</td>\n",
       "      <td>7.780</td>\n",
       "      <td>10.775</td>\n",
       "      <td>0.954</td>\n",
       "      <td>72.0</td>\n",
       "      <td>0.949</td>\n",
       "      <td>0.186</td>\n",
       "      <td>2.43</td>\n",
       "      <td>1.446</td>\n",
       "      <td>1.106</td>\n",
       "      <td>0.741</td>\n",
       "      <td>0.691</td>\n",
       "      <td>0.124</td>\n",
       "      <td>0.481</td>\n",
       "      <td>3.253</td>\n",
       "      <td>2021</td>\n",
       "    </tr>\n",
       "    <tr>\n",
       "      <th>1</th>\n",
       "      <td>Denmark</td>\n",
       "      <td>Western Europe</td>\n",
       "      <td>7.620</td>\n",
       "      <td>0.035</td>\n",
       "      <td>7.687</td>\n",
       "      <td>7.552</td>\n",
       "      <td>10.933</td>\n",
       "      <td>0.954</td>\n",
       "      <td>72.7</td>\n",
       "      <td>0.946</td>\n",
       "      <td>0.179</td>\n",
       "      <td>2.43</td>\n",
       "      <td>1.502</td>\n",
       "      <td>1.108</td>\n",
       "      <td>0.763</td>\n",
       "      <td>0.686</td>\n",
       "      <td>0.208</td>\n",
       "      <td>0.485</td>\n",
       "      <td>2.868</td>\n",
       "      <td>2021</td>\n",
       "    </tr>\n",
       "    <tr>\n",
       "      <th>2</th>\n",
       "      <td>Switzerland</td>\n",
       "      <td>Western Europe</td>\n",
       "      <td>7.571</td>\n",
       "      <td>0.036</td>\n",
       "      <td>7.643</td>\n",
       "      <td>7.500</td>\n",
       "      <td>11.117</td>\n",
       "      <td>0.942</td>\n",
       "      <td>74.4</td>\n",
       "      <td>0.919</td>\n",
       "      <td>0.292</td>\n",
       "      <td>2.43</td>\n",
       "      <td>1.566</td>\n",
       "      <td>1.079</td>\n",
       "      <td>0.816</td>\n",
       "      <td>0.653</td>\n",
       "      <td>0.204</td>\n",
       "      <td>0.413</td>\n",
       "      <td>2.839</td>\n",
       "      <td>2021</td>\n",
       "    </tr>\n",
       "    <tr>\n",
       "      <th>3</th>\n",
       "      <td>Iceland</td>\n",
       "      <td>Western Europe</td>\n",
       "      <td>7.554</td>\n",
       "      <td>0.059</td>\n",
       "      <td>7.670</td>\n",
       "      <td>7.438</td>\n",
       "      <td>10.878</td>\n",
       "      <td>0.983</td>\n",
       "      <td>73.0</td>\n",
       "      <td>0.955</td>\n",
       "      <td>0.673</td>\n",
       "      <td>2.43</td>\n",
       "      <td>1.482</td>\n",
       "      <td>1.172</td>\n",
       "      <td>0.772</td>\n",
       "      <td>0.698</td>\n",
       "      <td>0.293</td>\n",
       "      <td>0.170</td>\n",
       "      <td>2.967</td>\n",
       "      <td>2021</td>\n",
       "    </tr>\n",
       "    <tr>\n",
       "      <th>4</th>\n",
       "      <td>Netherlands</td>\n",
       "      <td>Western Europe</td>\n",
       "      <td>7.464</td>\n",
       "      <td>0.027</td>\n",
       "      <td>7.518</td>\n",
       "      <td>7.410</td>\n",
       "      <td>10.932</td>\n",
       "      <td>0.942</td>\n",
       "      <td>72.4</td>\n",
       "      <td>0.913</td>\n",
       "      <td>0.338</td>\n",
       "      <td>2.43</td>\n",
       "      <td>1.501</td>\n",
       "      <td>1.079</td>\n",
       "      <td>0.753</td>\n",
       "      <td>0.647</td>\n",
       "      <td>0.302</td>\n",
       "      <td>0.384</td>\n",
       "      <td>2.798</td>\n",
       "      <td>2021</td>\n",
       "    </tr>\n",
       "  </tbody>\n",
       "</table>\n",
       "</div>"
      ],
      "text/plain": [
       "       Country          Region  Happiness Score  \\\n",
       "0      Finland  Western Europe            7.842   \n",
       "1      Denmark  Western Europe            7.620   \n",
       "2  Switzerland  Western Europe            7.571   \n",
       "3      Iceland  Western Europe            7.554   \n",
       "4  Netherlands  Western Europe            7.464   \n",
       "\n",
       "   Standard error of ladder score  upperwhisker  lowerwhisker  \\\n",
       "0                           0.032         7.904         7.780   \n",
       "1                           0.035         7.687         7.552   \n",
       "2                           0.036         7.643         7.500   \n",
       "3                           0.059         7.670         7.438   \n",
       "4                           0.027         7.518         7.410   \n",
       "\n",
       "   Logged GDP per capita  Social support  Healthy life expectancy  \\\n",
       "0                 10.775           0.954                     72.0   \n",
       "1                 10.933           0.954                     72.7   \n",
       "2                 11.117           0.942                     74.4   \n",
       "3                 10.878           0.983                     73.0   \n",
       "4                 10.932           0.942                     72.4   \n",
       "\n",
       "   Freedom to make life choices  Perceptions of corruption  \\\n",
       "0                         0.949                      0.186   \n",
       "1                         0.946                      0.179   \n",
       "2                         0.919                      0.292   \n",
       "3                         0.955                      0.673   \n",
       "4                         0.913                      0.338   \n",
       "\n",
       "   Ladder score in Dystopia  Economy (GDP per Capita)  Social Support  \\\n",
       "0                      2.43                     1.446           1.106   \n",
       "1                      2.43                     1.502           1.108   \n",
       "2                      2.43                     1.566           1.079   \n",
       "3                      2.43                     1.482           1.172   \n",
       "4                      2.43                     1.501           1.079   \n",
       "\n",
       "   Health (Life Expectancy)  Freedom  Generosity  Trust in Government  \\\n",
       "0                     0.741    0.691       0.124                0.481   \n",
       "1                     0.763    0.686       0.208                0.485   \n",
       "2                     0.816    0.653       0.204                0.413   \n",
       "3                     0.772    0.698       0.293                0.170   \n",
       "4                     0.753    0.647       0.302                0.384   \n",
       "\n",
       "   Dystopia + residual  Year  \n",
       "0                3.253  2021  \n",
       "1                2.868  2021  \n",
       "2                2.839  2021  \n",
       "3                2.967  2021  \n",
       "4                2.798  2021  "
      ]
     },
     "execution_count": 14,
     "metadata": {},
     "output_type": "execute_result"
    }
   ],
   "source": [
    "# Get rid of duplicates\n",
    "y2021 = y2021.loc[:,~y2021.columns.duplicated(keep='last')]\n",
    "\n",
    "y2021.head()"
   ]
  },
  {
   "cell_type": "code",
   "execution_count": 15,
   "metadata": {},
   "outputs": [
    {
     "data": {
      "text/plain": [
       "['RANK',\n",
       " 'Country',\n",
       " 'Happiness score',\n",
       " 'Whisker-high',\n",
       " 'Whisker-low',\n",
       " 'Dystopia (1.83) + residual',\n",
       " 'Explained by: GDP per capita',\n",
       " 'Explained by: Social support',\n",
       " 'Explained by: Healthy life expectancy',\n",
       " 'Explained by: Freedom to make life choices',\n",
       " 'Explained by: Generosity',\n",
       " 'Explained by: Perceptions of corruption',\n",
       " 'Year']"
      ]
     },
     "execution_count": 15,
     "metadata": {},
     "output_type": "execute_result"
    }
   ],
   "source": [
    "y2022.columns.to_list()"
   ]
  },
  {
   "cell_type": "code",
   "execution_count": 16,
   "metadata": {},
   "outputs": [
    {
     "data": {
      "text/html": [
       "<div>\n",
       "<style scoped>\n",
       "    .dataframe tbody tr th:only-of-type {\n",
       "        vertical-align: middle;\n",
       "    }\n",
       "\n",
       "    .dataframe tbody tr th {\n",
       "        vertical-align: top;\n",
       "    }\n",
       "\n",
       "    .dataframe thead th {\n",
       "        text-align: right;\n",
       "    }\n",
       "</style>\n",
       "<table border=\"1\" class=\"dataframe\">\n",
       "  <thead>\n",
       "    <tr style=\"text-align: right;\">\n",
       "      <th></th>\n",
       "      <th>Happiness Rank</th>\n",
       "      <th>Country</th>\n",
       "      <th>Happiness Score</th>\n",
       "      <th>Whisker-high</th>\n",
       "      <th>Whisker-low</th>\n",
       "      <th>Dystopia (1.83) + residual</th>\n",
       "      <th>Economy (GDP per Capita)</th>\n",
       "      <th>Social Support</th>\n",
       "      <th>Health (Life Expectancy)</th>\n",
       "      <th>Freedom</th>\n",
       "      <th>Generosity</th>\n",
       "      <th>Trust in Government</th>\n",
       "      <th>Year</th>\n",
       "    </tr>\n",
       "  </thead>\n",
       "  <tbody>\n",
       "    <tr>\n",
       "      <th>0</th>\n",
       "      <td>1</td>\n",
       "      <td>Finland</td>\n",
       "      <td>7.821</td>\n",
       "      <td>7,886</td>\n",
       "      <td>7,756</td>\n",
       "      <td>2,518</td>\n",
       "      <td>1.892</td>\n",
       "      <td>1,258</td>\n",
       "      <td>0.775</td>\n",
       "      <td>0.736</td>\n",
       "      <td>0,109</td>\n",
       "      <td>0,534</td>\n",
       "      <td>2022</td>\n",
       "    </tr>\n",
       "    <tr>\n",
       "      <th>1</th>\n",
       "      <td>2</td>\n",
       "      <td>Denmark</td>\n",
       "      <td>7.636</td>\n",
       "      <td>7,710</td>\n",
       "      <td>7,563</td>\n",
       "      <td>2,226</td>\n",
       "      <td>1.953</td>\n",
       "      <td>1,243</td>\n",
       "      <td>0.777</td>\n",
       "      <td>0.719</td>\n",
       "      <td>0,188</td>\n",
       "      <td>0,532</td>\n",
       "      <td>2022</td>\n",
       "    </tr>\n",
       "    <tr>\n",
       "      <th>2</th>\n",
       "      <td>3</td>\n",
       "      <td>Iceland</td>\n",
       "      <td>7.557</td>\n",
       "      <td>7,651</td>\n",
       "      <td>7,464</td>\n",
       "      <td>2,320</td>\n",
       "      <td>1.936</td>\n",
       "      <td>1,320</td>\n",
       "      <td>0.803</td>\n",
       "      <td>0.718</td>\n",
       "      <td>0,270</td>\n",
       "      <td>0,191</td>\n",
       "      <td>2022</td>\n",
       "    </tr>\n",
       "  </tbody>\n",
       "</table>\n",
       "</div>"
      ],
      "text/plain": [
       "   Happiness Rank  Country  Happiness Score Whisker-high Whisker-low  \\\n",
       "0               1  Finland            7.821        7,886       7,756   \n",
       "1               2  Denmark            7.636        7,710       7,563   \n",
       "2               3  Iceland            7.557        7,651       7,464   \n",
       "\n",
       "  Dystopia (1.83) + residual  Economy (GDP per Capita) Social Support  \\\n",
       "0                      2,518                     1.892          1,258   \n",
       "1                      2,226                     1.953          1,243   \n",
       "2                      2,320                     1.936          1,320   \n",
       "\n",
       "   Health (Life Expectancy)  Freedom Generosity Trust in Government  Year  \n",
       "0                     0.775    0.736      0,109               0,534  2022  \n",
       "1                     0.777    0.719      0,188               0,532  2022  \n",
       "2                     0.803    0.718      0,270               0,191  2022  "
      ]
     },
     "execution_count": 16,
     "metadata": {},
     "output_type": "execute_result"
    }
   ],
   "source": [
    "# Rename columns to common column names\n",
    "y2022 = y2022.rename(columns={\"RANK\":\"Happiness Rank\",\"Happiness score\":\"Happiness Score\",\"Explained by: GDP per capita\":\"Economy (GDP per Capita)\", \"Explained by: Social support\":\"Social Support\",\"Explained by: Healthy life expectancy\":\"Health (Life Expectancy)\",\"Explained by: Freedom to make life choices\":\"Freedom\",\"Explained by: Generosity\":\"Generosity\", \"Explained by: Perceptions of corruption\":\"Trust in Government\"})\n",
    "\n",
    "# Remove commas and convert 'string_column' to float\n",
    "y2022['Economy (GDP per Capita)'] = y2022['Economy (GDP per Capita)'].str.replace(',', '.').astype(float)\n",
    "y2022['Happiness Score'] = y2022['Happiness Score'].str.replace(',', '.').astype(float)\n",
    "y2022['Freedom'] = y2022['Freedom'].str.replace(',', '.').astype(float)\n",
    "y2022['Health (Life Expectancy)'] = y2022['Health (Life Expectancy)'].str.replace(',', '.').astype(float)\n",
    "\n",
    "y2022.head(3)"
   ]
  },
  {
   "cell_type": "code",
   "execution_count": 17,
   "metadata": {},
   "outputs": [
    {
     "data": {
      "text/html": [
       "<div>\n",
       "<style scoped>\n",
       "    .dataframe tbody tr th:only-of-type {\n",
       "        vertical-align: middle;\n",
       "    }\n",
       "\n",
       "    .dataframe tbody tr th {\n",
       "        vertical-align: top;\n",
       "    }\n",
       "\n",
       "    .dataframe thead th {\n",
       "        text-align: right;\n",
       "    }\n",
       "</style>\n",
       "<table border=\"1\" class=\"dataframe\">\n",
       "  <thead>\n",
       "    <tr style=\"text-align: right;\">\n",
       "      <th></th>\n",
       "      <th>Happiness Rank</th>\n",
       "      <th>Country</th>\n",
       "      <th>Happiness Score</th>\n",
       "      <th>Economy (GDP per Capita)</th>\n",
       "      <th>Social support</th>\n",
       "      <th>Health (Life Expectancy)</th>\n",
       "      <th>Freedom</th>\n",
       "      <th>Generosity</th>\n",
       "      <th>Trust in Government</th>\n",
       "      <th>Year</th>\n",
       "      <th>...</th>\n",
       "      <th>Logged GDP per capita</th>\n",
       "      <th>Healthy life expectancy</th>\n",
       "      <th>Freedom to make life choices</th>\n",
       "      <th>Perceptions of corruption</th>\n",
       "      <th>Ladder score in Dystopia</th>\n",
       "      <th>Social Support</th>\n",
       "      <th>Dystopia + residual</th>\n",
       "      <th>Whisker-high</th>\n",
       "      <th>Whisker-low</th>\n",
       "      <th>Dystopia (1.83) + residual</th>\n",
       "    </tr>\n",
       "  </thead>\n",
       "  <tbody>\n",
       "    <tr>\n",
       "      <th>0</th>\n",
       "      <td>1.0</td>\n",
       "      <td>Finland</td>\n",
       "      <td>7.632</td>\n",
       "      <td>1.305</td>\n",
       "      <td>1.592</td>\n",
       "      <td>0.874</td>\n",
       "      <td>0.681</td>\n",
       "      <td>0.202</td>\n",
       "      <td>0.393</td>\n",
       "      <td>2018</td>\n",
       "      <td>...</td>\n",
       "      <td>NaN</td>\n",
       "      <td>NaN</td>\n",
       "      <td>NaN</td>\n",
       "      <td>NaN</td>\n",
       "      <td>NaN</td>\n",
       "      <td>NaN</td>\n",
       "      <td>NaN</td>\n",
       "      <td>NaN</td>\n",
       "      <td>NaN</td>\n",
       "      <td>NaN</td>\n",
       "    </tr>\n",
       "    <tr>\n",
       "      <th>1</th>\n",
       "      <td>2.0</td>\n",
       "      <td>Norway</td>\n",
       "      <td>7.594</td>\n",
       "      <td>1.456</td>\n",
       "      <td>1.582</td>\n",
       "      <td>0.861</td>\n",
       "      <td>0.686</td>\n",
       "      <td>0.286</td>\n",
       "      <td>0.34</td>\n",
       "      <td>2018</td>\n",
       "      <td>...</td>\n",
       "      <td>NaN</td>\n",
       "      <td>NaN</td>\n",
       "      <td>NaN</td>\n",
       "      <td>NaN</td>\n",
       "      <td>NaN</td>\n",
       "      <td>NaN</td>\n",
       "      <td>NaN</td>\n",
       "      <td>NaN</td>\n",
       "      <td>NaN</td>\n",
       "      <td>NaN</td>\n",
       "    </tr>\n",
       "    <tr>\n",
       "      <th>2</th>\n",
       "      <td>3.0</td>\n",
       "      <td>Denmark</td>\n",
       "      <td>7.555</td>\n",
       "      <td>1.351</td>\n",
       "      <td>1.590</td>\n",
       "      <td>0.868</td>\n",
       "      <td>0.683</td>\n",
       "      <td>0.284</td>\n",
       "      <td>0.408</td>\n",
       "      <td>2018</td>\n",
       "      <td>...</td>\n",
       "      <td>NaN</td>\n",
       "      <td>NaN</td>\n",
       "      <td>NaN</td>\n",
       "      <td>NaN</td>\n",
       "      <td>NaN</td>\n",
       "      <td>NaN</td>\n",
       "      <td>NaN</td>\n",
       "      <td>NaN</td>\n",
       "      <td>NaN</td>\n",
       "      <td>NaN</td>\n",
       "    </tr>\n",
       "    <tr>\n",
       "      <th>3</th>\n",
       "      <td>4.0</td>\n",
       "      <td>Iceland</td>\n",
       "      <td>7.495</td>\n",
       "      <td>1.343</td>\n",
       "      <td>1.644</td>\n",
       "      <td>0.914</td>\n",
       "      <td>0.677</td>\n",
       "      <td>0.353</td>\n",
       "      <td>0.138</td>\n",
       "      <td>2018</td>\n",
       "      <td>...</td>\n",
       "      <td>NaN</td>\n",
       "      <td>NaN</td>\n",
       "      <td>NaN</td>\n",
       "      <td>NaN</td>\n",
       "      <td>NaN</td>\n",
       "      <td>NaN</td>\n",
       "      <td>NaN</td>\n",
       "      <td>NaN</td>\n",
       "      <td>NaN</td>\n",
       "      <td>NaN</td>\n",
       "    </tr>\n",
       "    <tr>\n",
       "      <th>4</th>\n",
       "      <td>5.0</td>\n",
       "      <td>Switzerland</td>\n",
       "      <td>7.487</td>\n",
       "      <td>1.420</td>\n",
       "      <td>1.549</td>\n",
       "      <td>0.927</td>\n",
       "      <td>0.660</td>\n",
       "      <td>0.256</td>\n",
       "      <td>0.357</td>\n",
       "      <td>2018</td>\n",
       "      <td>...</td>\n",
       "      <td>NaN</td>\n",
       "      <td>NaN</td>\n",
       "      <td>NaN</td>\n",
       "      <td>NaN</td>\n",
       "      <td>NaN</td>\n",
       "      <td>NaN</td>\n",
       "      <td>NaN</td>\n",
       "      <td>NaN</td>\n",
       "      <td>NaN</td>\n",
       "      <td>NaN</td>\n",
       "    </tr>\n",
       "    <tr>\n",
       "      <th>...</th>\n",
       "      <td>...</td>\n",
       "      <td>...</td>\n",
       "      <td>...</td>\n",
       "      <td>...</td>\n",
       "      <td>...</td>\n",
       "      <td>...</td>\n",
       "      <td>...</td>\n",
       "      <td>...</td>\n",
       "      <td>...</td>\n",
       "      <td>...</td>\n",
       "      <td>...</td>\n",
       "      <td>...</td>\n",
       "      <td>...</td>\n",
       "      <td>...</td>\n",
       "      <td>...</td>\n",
       "      <td>...</td>\n",
       "      <td>...</td>\n",
       "      <td>...</td>\n",
       "      <td>...</td>\n",
       "      <td>...</td>\n",
       "      <td>...</td>\n",
       "    </tr>\n",
       "    <tr>\n",
       "      <th>142</th>\n",
       "      <td>143.0</td>\n",
       "      <td>Rwanda*</td>\n",
       "      <td>3.268</td>\n",
       "      <td>0.785</td>\n",
       "      <td>NaN</td>\n",
       "      <td>0.462</td>\n",
       "      <td>0.621</td>\n",
       "      <td>0,187</td>\n",
       "      <td>0,544</td>\n",
       "      <td>2022</td>\n",
       "      <td>...</td>\n",
       "      <td>NaN</td>\n",
       "      <td>NaN</td>\n",
       "      <td>NaN</td>\n",
       "      <td>NaN</td>\n",
       "      <td>NaN</td>\n",
       "      <td>0,133</td>\n",
       "      <td>NaN</td>\n",
       "      <td>3,462</td>\n",
       "      <td>3,074</td>\n",
       "      <td>0,536</td>\n",
       "    </tr>\n",
       "    <tr>\n",
       "      <th>143</th>\n",
       "      <td>144.0</td>\n",
       "      <td>Zimbabwe</td>\n",
       "      <td>2.995</td>\n",
       "      <td>0.947</td>\n",
       "      <td>NaN</td>\n",
       "      <td>0.270</td>\n",
       "      <td>0.329</td>\n",
       "      <td>0,106</td>\n",
       "      <td>0,105</td>\n",
       "      <td>2022</td>\n",
       "      <td>...</td>\n",
       "      <td>NaN</td>\n",
       "      <td>NaN</td>\n",
       "      <td>NaN</td>\n",
       "      <td>NaN</td>\n",
       "      <td>NaN</td>\n",
       "      <td>0,690</td>\n",
       "      <td>NaN</td>\n",
       "      <td>3,110</td>\n",
       "      <td>2,880</td>\n",
       "      <td>0,548</td>\n",
       "    </tr>\n",
       "    <tr>\n",
       "      <th>144</th>\n",
       "      <td>145.0</td>\n",
       "      <td>Lebanon</td>\n",
       "      <td>2.955</td>\n",
       "      <td>1.392</td>\n",
       "      <td>NaN</td>\n",
       "      <td>0.631</td>\n",
       "      <td>0.103</td>\n",
       "      <td>0,082</td>\n",
       "      <td>0,034</td>\n",
       "      <td>2022</td>\n",
       "      <td>...</td>\n",
       "      <td>NaN</td>\n",
       "      <td>NaN</td>\n",
       "      <td>NaN</td>\n",
       "      <td>NaN</td>\n",
       "      <td>NaN</td>\n",
       "      <td>0,498</td>\n",
       "      <td>NaN</td>\n",
       "      <td>3,049</td>\n",
       "      <td>2,862</td>\n",
       "      <td>0,216</td>\n",
       "    </tr>\n",
       "    <tr>\n",
       "      <th>145</th>\n",
       "      <td>146.0</td>\n",
       "      <td>Afghanistan</td>\n",
       "      <td>2.404</td>\n",
       "      <td>0.758</td>\n",
       "      <td>NaN</td>\n",
       "      <td>0.289</td>\n",
       "      <td>0.000</td>\n",
       "      <td>0,089</td>\n",
       "      <td>0,005</td>\n",
       "      <td>2022</td>\n",
       "      <td>...</td>\n",
       "      <td>NaN</td>\n",
       "      <td>NaN</td>\n",
       "      <td>NaN</td>\n",
       "      <td>NaN</td>\n",
       "      <td>NaN</td>\n",
       "      <td>0,000</td>\n",
       "      <td>NaN</td>\n",
       "      <td>2,469</td>\n",
       "      <td>2,339</td>\n",
       "      <td>1,263</td>\n",
       "    </tr>\n",
       "    <tr>\n",
       "      <th>146</th>\n",
       "      <td>147.0</td>\n",
       "      <td>xx</td>\n",
       "      <td>NaN</td>\n",
       "      <td>NaN</td>\n",
       "      <td>NaN</td>\n",
       "      <td>NaN</td>\n",
       "      <td>NaN</td>\n",
       "      <td>NaN</td>\n",
       "      <td>NaN</td>\n",
       "      <td>2022</td>\n",
       "      <td>...</td>\n",
       "      <td>NaN</td>\n",
       "      <td>NaN</td>\n",
       "      <td>NaN</td>\n",
       "      <td>NaN</td>\n",
       "      <td>NaN</td>\n",
       "      <td>NaN</td>\n",
       "      <td>NaN</td>\n",
       "      <td>NaN</td>\n",
       "      <td>NaN</td>\n",
       "      <td>NaN</td>\n",
       "    </tr>\n",
       "  </tbody>\n",
       "</table>\n",
       "<p>761 rows × 24 columns</p>\n",
       "</div>"
      ],
      "text/plain": [
       "     Happiness Rank      Country  Happiness Score  Economy (GDP per Capita)  \\\n",
       "0               1.0      Finland            7.632                     1.305   \n",
       "1               2.0       Norway            7.594                     1.456   \n",
       "2               3.0      Denmark            7.555                     1.351   \n",
       "3               4.0      Iceland            7.495                     1.343   \n",
       "4               5.0  Switzerland            7.487                     1.420   \n",
       "..              ...          ...              ...                       ...   \n",
       "142           143.0      Rwanda*            3.268                     0.785   \n",
       "143           144.0     Zimbabwe            2.995                     0.947   \n",
       "144           145.0      Lebanon            2.955                     1.392   \n",
       "145           146.0  Afghanistan            2.404                     0.758   \n",
       "146           147.0           xx              NaN                       NaN   \n",
       "\n",
       "     Social support  Health (Life Expectancy)  Freedom Generosity  \\\n",
       "0             1.592                     0.874    0.681      0.202   \n",
       "1             1.582                     0.861    0.686      0.286   \n",
       "2             1.590                     0.868    0.683      0.284   \n",
       "3             1.644                     0.914    0.677      0.353   \n",
       "4             1.549                     0.927    0.660      0.256   \n",
       "..              ...                       ...      ...        ...   \n",
       "142             NaN                     0.462    0.621      0,187   \n",
       "143             NaN                     0.270    0.329      0,106   \n",
       "144             NaN                     0.631    0.103      0,082   \n",
       "145             NaN                     0.289    0.000      0,089   \n",
       "146             NaN                       NaN      NaN        NaN   \n",
       "\n",
       "    Trust in Government  Year  ... Logged GDP per capita  \\\n",
       "0                 0.393  2018  ...                   NaN   \n",
       "1                  0.34  2018  ...                   NaN   \n",
       "2                 0.408  2018  ...                   NaN   \n",
       "3                 0.138  2018  ...                   NaN   \n",
       "4                 0.357  2018  ...                   NaN   \n",
       "..                  ...   ...  ...                   ...   \n",
       "142               0,544  2022  ...                   NaN   \n",
       "143               0,105  2022  ...                   NaN   \n",
       "144               0,034  2022  ...                   NaN   \n",
       "145               0,005  2022  ...                   NaN   \n",
       "146                 NaN  2022  ...                   NaN   \n",
       "\n",
       "     Healthy life expectancy  Freedom to make life choices  \\\n",
       "0                        NaN                           NaN   \n",
       "1                        NaN                           NaN   \n",
       "2                        NaN                           NaN   \n",
       "3                        NaN                           NaN   \n",
       "4                        NaN                           NaN   \n",
       "..                       ...                           ...   \n",
       "142                      NaN                           NaN   \n",
       "143                      NaN                           NaN   \n",
       "144                      NaN                           NaN   \n",
       "145                      NaN                           NaN   \n",
       "146                      NaN                           NaN   \n",
       "\n",
       "     Perceptions of corruption  Ladder score in Dystopia  Social Support  \\\n",
       "0                          NaN                       NaN             NaN   \n",
       "1                          NaN                       NaN             NaN   \n",
       "2                          NaN                       NaN             NaN   \n",
       "3                          NaN                       NaN             NaN   \n",
       "4                          NaN                       NaN             NaN   \n",
       "..                         ...                       ...             ...   \n",
       "142                        NaN                       NaN           0,133   \n",
       "143                        NaN                       NaN           0,690   \n",
       "144                        NaN                       NaN           0,498   \n",
       "145                        NaN                       NaN           0,000   \n",
       "146                        NaN                       NaN             NaN   \n",
       "\n",
       "     Dystopia + residual  Whisker-high  Whisker-low Dystopia (1.83) + residual  \n",
       "0                    NaN           NaN          NaN                        NaN  \n",
       "1                    NaN           NaN          NaN                        NaN  \n",
       "2                    NaN           NaN          NaN                        NaN  \n",
       "3                    NaN           NaN          NaN                        NaN  \n",
       "4                    NaN           NaN          NaN                        NaN  \n",
       "..                   ...           ...          ...                        ...  \n",
       "142                  NaN         3,462        3,074                      0,536  \n",
       "143                  NaN         3,110        2,880                      0,548  \n",
       "144                  NaN         3,049        2,862                      0,216  \n",
       "145                  NaN         2,469        2,339                      1,263  \n",
       "146                  NaN           NaN          NaN                        NaN  \n",
       "\n",
       "[761 rows x 24 columns]"
      ]
     },
     "execution_count": 17,
     "metadata": {},
     "output_type": "execute_result"
    }
   ],
   "source": [
    "df_complete = pd.concat([y2018, y2019, y2020, y2021, y2022])\n",
    "\n",
    "df_complete"
   ]
  },
  {
   "cell_type": "code",
   "execution_count": 21,
   "metadata": {},
   "outputs": [
    {
     "data": {
      "text/plain": [
       "<matplotlib.legend.Legend at 0x1338cc320>"
      ]
     },
     "execution_count": 21,
     "metadata": {},
     "output_type": "execute_result"
    },
    {
     "data": {
      "image/png": "[encoded data removed]",
      "text/plain": [
       "<Figure size 3000x1000 with 5 Axes>"
      ]
     },
     "metadata": {},
     "output_type": "display_data"
    }
   ],
   "source": [
    "# Find distribution of Economy, Health, and Freedom 2018 - 2022\n",
    "fig4, axes = plt.subplots(nrows=1, ncols=5, figsize=(30, 10))\n",
    "\n",
    "sb.kdeplot(y2018[\"Economy (GDP per Capita)\"], fill=True, ax=axes[0], multiple=\"layer\", legend=True, label=\"Economy\")\n",
    "sb.kdeplot(y2019[\"Economy (GDP per Capita)\"], fill=True, ax=axes[1], multiple=\"layer\", legend=True, label=\"Economy\")\n",
    "sb.kdeplot(y2020[\"Economy (GDP per Capita)\"], fill=True, ax=axes[2], multiple=\"layer\", legend=True, label=\"Economy\")\n",
    "sb.kdeplot(y2021[\"Economy (GDP per Capita)\"], fill=True, ax=axes[3], multiple=\"layer\", legend=True, label=\"Economy\")\n",
    "sb.kdeplot(y2022[\"Economy (GDP per Capita)\"], fill=True, ax=axes[4], multiple=\"layer\", legend=True, label=\"Economy\")\n",
    "\n",
    "sb.kdeplot(y2018[\"Health (Life Expectancy)\"], fill=True, ax=axes[0], multiple=\"layer\", legend=True, label=\"Health\")\n",
    "sb.kdeplot(y2019[\"Health (Life Expectancy)\"], fill=True, ax=axes[1], multiple=\"layer\", legend=True, label=\"Health\")\n",
    "sb.kdeplot(y2020[\"Health (Life Expectancy)\"], fill=True, ax=axes[2], multiple=\"layer\", legend=True, label=\"Health\")\n",
    "sb.kdeplot(y2021[\"Health (Life Expectancy)\"], fill=True, ax=axes[3], multiple=\"layer\", legend=True, label=\"Health\")\n",
    "sb.kdeplot(y2022[\"Health (Life Expectancy)\"], fill=True, ax=axes[4], multiple=\"layer\", legend=True, label=\"Health\")\n",
    "\n",
    "sb.kdeplot(y2018[\"Freedom\"], fill=True, ax=axes[0], multiple=\"layer\", legend=True, label=\"Freedom\")\n",
    "sb.kdeplot(y2019[\"Freedom\"], fill=True, ax=axes[1], multiple=\"layer\", legend=True, label=\"Freedom\")\n",
    "sb.kdeplot(y2020[\"Freedom\"], fill=True, ax=axes[2], multiple=\"layer\", legend=True, label=\"Freedom\")\n",
    "sb.kdeplot(y2021[\"Freedom\"], fill=True, ax=axes[3], multiple=\"layer\", legend=True, label=\"Freedom\")\n",
    "sb.kdeplot(y2022[\"Freedom\"], fill=True, ax=axes[4], multiple=\"layer\", legend=True, label=\"Freedom\")\n",
    "\n",
    "axes[0].set_xlabel(\"Economy, Health, & Freedom 2018\")\n",
    "axes[1].set_xlabel(\"Economy, Health, & Freedom 2019\")\n",
    "axes[2].set_xlabel(\"Economy, Health, & Freedom 2020\")\n",
    "axes[3].set_xlabel(\"Economy, Health, & Freedom 2021\")\n",
    "axes[4].set_xlabel(\"Economy, Health, & Freedom 2022\")\n",
    "\n",
    "axes[0].legend()\n",
    "axes[1].legend()\n",
    "axes[2].legend()\n",
    "axes[3].legend()\n",
    "axes[4].legend()\n"
   ]
  },
  {
   "cell_type": "code",
   "execution_count": 22,
   "metadata": {},
   "outputs": [
    {
     "data": {
      "text/plain": [
       "<Axes: >"
      ]
     },
     "execution_count": 22,
     "metadata": {},
     "output_type": "execute_result"
    },
    {
     "data": {
      "image/png": "[encoded data removed]",
      "text/plain": [
       "<Figure size 1000x1000 with 1 Axes>"
      ]
     },
     "metadata": {},
     "output_type": "display_data"
    }
   ],
   "source": [
    "# Show dispertion of Freedom, Economy, and Health collectively over the 5 years\n",
    "econ_heal_free = [\"Economy (GDP per Capita)\", \"Health (Life Expectancy)\", \"Freedom\"]\n",
    "\n",
    "fig5 = plt.subplots(figsize=(10,10))\n",
    "\n",
    "fig5 = plt.subplot(1,1,1)\n",
    "df_complete.boxplot(column=econ_heal_free, ax=fig5)\n"
   ]
  },
  {
   "cell_type": "code",
   "execution_count": 23,
   "metadata": {},
   "outputs": [
    {
     "data": {
      "application/vnd.plotly.v1+json": {
       "config": {
        "plotlyServerURL": "https://plot.ly"
       },
       "data": [
        {
         "hovertemplate": "Country=Finland<br>Year=%{x}<br>Happiness Score=%{y}<extra></extra>",
         "legendgroup": "Finland",
         "line": {
          "color": "#636efa",
          "dash": "solid"
         },
         "marker": {
          "symbol": "circle"
         },
         "mode": "lines",
         "name": "Finland",
         "orientation": "v",
         "showlegend": true,
         "type": "scatter",
         "x": [
          "2018",
          "2019",
          "2020",
          "2021",
          "2022"
         ],
         "xaxis": "x",
         "y": [
          7.632,
          7.769,
          7.808700085,
          7.842,
          7.821
         ],
         "yaxis": "y"
        },
        {
         "hovertemplate": "Country=Norway<br>Year=%{x}<br>Happiness Score=%{y}<extra></extra>",
         "legendgroup": "Norway",
         "line": {
          "color": "#EF553B",
          "dash": "solid"
         },
         "marker": {
          "symbol": "circle"
         },
         "mode": "lines",
         "name": "Norway",
         "orientation": "v",
         "showlegend": true,
         "type": "scatter",
         "x": [
          "2018",
          "2019",
          "2020",
          "2021",
          "2022"
         ],
         "xaxis": "x",
         "y": [
          7.594,
          7.554,
          7.487999916,
          7.392,
          7.365
         ],
         "yaxis": "y"
        },
        {
         "hovertemplate": "Country=Denmark<br>Year=%{x}<br>Happiness Score=%{y}<extra></extra>",
         "legendgroup": "Denmark",
         "line": {
          "color": "#00cc96",
          "dash": "solid"
         },
         "marker": {
          "symbol": "circle"
         },
         "mode": "lines",
         "name": "Denmark",
         "orientation": "v",
         "showlegend": true,
         "type": "scatter",
         "x": [
          "2018",
          "2019",
          "2020",
          "2021",
          "2022"
         ],
         "xaxis": "x",
         "y": [
          7.555,
          7.6,
          7.645599842,
          7.62,
          7.636
         ],
         "yaxis": "y"
        },
        {
         "hovertemplate": "Country=Switzerland<br>Year=%{x}<br>Happiness Score=%{y}<extra></extra>",
         "legendgroup": "Switzerland",
         "line": {
          "color": "#ab63fa",
          "dash": "solid"
         },
         "marker": {
          "symbol": "circle"
         },
         "mode": "lines",
         "name": "Switzerland",
         "orientation": "v",
         "showlegend": true,
         "type": "scatter",
         "x": [
          "2018",
          "2019",
          "2020",
          "2021",
          "2022"
         ],
         "xaxis": "x",
         "y": [
          7.487,
          7.48,
          7.559899807,
          7.571,
          7.512
         ],
         "yaxis": "y"
        },
        {
         "hovertemplate": "Country=Canada<br>Year=%{x}<br>Happiness Score=%{y}<extra></extra>",
         "legendgroup": "Canada",
         "line": {
          "color": "#FFA15A",
          "dash": "solid"
         },
         "marker": {
          "symbol": "circle"
         },
         "mode": "lines",
         "name": "Canada",
         "orientation": "v",
         "showlegend": true,
         "type": "scatter",
         "x": [
          "2018",
          "2019",
          "2020",
          "2021",
          "2022"
         ],
         "xaxis": "x",
         "y": [
          7.328,
          7.278,
          7.23210001,
          7.103,
          7.025
         ],
         "yaxis": "y"
        },
        {
         "hovertemplate": "Country=Australia<br>Year=%{x}<br>Happiness Score=%{y}<extra></extra>",
         "legendgroup": "Australia",
         "line": {
          "color": "#19d3f3",
          "dash": "solid"
         },
         "marker": {
          "symbol": "circle"
         },
         "mode": "lines",
         "name": "Australia",
         "orientation": "v",
         "showlegend": true,
         "type": "scatter",
         "x": [
          "2018",
          "2019",
          "2020",
          "2021",
          "2022"
         ],
         "xaxis": "x",
         "y": [
          7.272,
          7.228,
          7.222799778,
          7.183,
          7.162
         ],
         "yaxis": "y"
        },
        {
         "hovertemplate": "Country=United Kingdom<br>Year=%{x}<br>Happiness Score=%{y}<extra></extra>",
         "legendgroup": "United Kingdom",
         "line": {
          "color": "#FF6692",
          "dash": "solid"
         },
         "marker": {
          "symbol": "circle"
         },
         "mode": "lines",
         "name": "United Kingdom",
         "orientation": "v",
         "showlegend": true,
         "type": "scatter",
         "x": [
          "2018",
          "2019",
          "2020",
          "2021",
          "2022"
         ],
         "xaxis": "x",
         "y": [
          7.19,
          7.054,
          7.164500237,
          7.064,
          6.943
         ],
         "yaxis": "y"
        },
        {
         "hovertemplate": "Country=Germany<br>Year=%{x}<br>Happiness Score=%{y}<extra></extra>",
         "legendgroup": "Germany",
         "line": {
          "color": "#B6E880",
          "dash": "solid"
         },
         "marker": {
          "symbol": "circle"
         },
         "mode": "lines",
         "name": "Germany",
         "orientation": "v",
         "showlegend": true,
         "type": "scatter",
         "x": [
          "2018",
          "2019",
          "2020",
          "2021",
          "2022"
         ],
         "xaxis": "x",
         "y": [
          6.965,
          6.985,
          7.075799942,
          7.155,
          7.034
         ],
         "yaxis": "y"
        },
        {
         "hovertemplate": "Country=United States<br>Year=%{x}<br>Happiness Score=%{y}<extra></extra>",
         "legendgroup": "United States",
         "line": {
          "color": "#FF97FF",
          "dash": "solid"
         },
         "marker": {
          "symbol": "circle"
         },
         "mode": "lines",
         "name": "United States",
         "orientation": "v",
         "showlegend": true,
         "type": "scatter",
         "x": [
          "2018",
          "2019",
          "2020",
          "2021",
          "2022"
         ],
         "xaxis": "x",
         "y": [
          6.886,
          6.892,
          6.939599991,
          6.951,
          6.977
         ],
         "yaxis": "y"
        },
        {
         "hovertemplate": "Country=France<br>Year=%{x}<br>Happiness Score=%{y}<extra></extra>",
         "legendgroup": "France",
         "line": {
          "color": "#FECB52",
          "dash": "solid"
         },
         "marker": {
          "symbol": "circle"
         },
         "mode": "lines",
         "name": "France",
         "orientation": "v",
         "showlegend": true,
         "type": "scatter",
         "x": [
          "2018",
          "2019",
          "2020",
          "2021",
          "2022"
         ],
         "xaxis": "x",
         "y": [
          6.489,
          6.592,
          6.663799763,
          6.69,
          6.687
         ],
         "yaxis": "y"
        },
        {
         "hovertemplate": "Country=Mexico<br>Year=%{x}<br>Happiness Score=%{y}<extra></extra>",
         "legendgroup": "Mexico",
         "line": {
          "color": "#636efa",
          "dash": "solid"
         },
         "marker": {
          "symbol": "circle"
         },
         "mode": "lines",
         "name": "Mexico",
         "orientation": "v",
         "showlegend": true,
         "type": "scatter",
         "x": [
          "2018",
          "2019",
          "2020",
          "2021",
          "2022"
         ],
         "xaxis": "x",
         "y": [
          6.488,
          6.595,
          6.465000153,
          6.317,
          6.128
         ],
         "yaxis": "y"
        },
        {
         "hovertemplate": "Country=Brazil<br>Year=%{x}<br>Happiness Score=%{y}<extra></extra>",
         "legendgroup": "Brazil",
         "line": {
          "color": "#EF553B",
          "dash": "solid"
         },
         "marker": {
          "symbol": "circle"
         },
         "mode": "lines",
         "name": "Brazil",
         "orientation": "v",
         "showlegend": true,
         "type": "scatter",
         "x": [
          "2018",
          "2019",
          "2020",
          "2021",
          "2022"
         ],
         "xaxis": "x",
         "y": [
          6.419,
          6.3,
          6.375599861,
          6.33,
          6.293
         ],
         "yaxis": "y"
        },
        {
         "hovertemplate": "Country=Saudi Arabia<br>Year=%{x}<br>Happiness Score=%{y}<extra></extra>",
         "legendgroup": "Saudi Arabia",
         "line": {
          "color": "#00cc96",
          "dash": "solid"
         },
         "marker": {
          "symbol": "circle"
         },
         "mode": "lines",
         "name": "Saudi Arabia",
         "orientation": "v",
         "showlegend": true,
         "type": "scatter",
         "x": [
          "2018",
          "2019",
          "2020",
          "2021",
          "2022"
         ],
         "xaxis": "x",
         "y": [
          6.371,
          6.375,
          6.406499863,
          6.494,
          6.523
         ],
         "yaxis": "y"
        },
        {
         "hovertemplate": "Country=Spain<br>Year=%{x}<br>Happiness Score=%{y}<extra></extra>",
         "legendgroup": "Spain",
         "line": {
          "color": "#ab63fa",
          "dash": "solid"
         },
         "marker": {
          "symbol": "circle"
         },
         "mode": "lines",
         "name": "Spain",
         "orientation": "v",
         "showlegend": true,
         "type": "scatter",
         "x": [
          "2018",
          "2019",
          "2020",
          "2021",
          "2022"
         ],
         "xaxis": "x",
         "y": [
          6.31,
          6.354,
          6.400899887,
          6.491,
          6.476
         ],
         "yaxis": "y"
        },
        {
         "hovertemplate": "Country=Japan<br>Year=%{x}<br>Happiness Score=%{y}<extra></extra>",
         "legendgroup": "Japan",
         "line": {
          "color": "#FFA15A",
          "dash": "solid"
         },
         "marker": {
          "symbol": "circle"
         },
         "mode": "lines",
         "name": "Japan",
         "orientation": "v",
         "showlegend": true,
         "type": "scatter",
         "x": [
          "2018",
          "2019",
          "2020",
          "2021",
          "2022"
         ],
         "xaxis": "x",
         "y": [
          5.915,
          5.886,
          5.870800018,
          5.94,
          6.039
         ],
         "yaxis": "y"
        },
        {
         "hovertemplate": "Country=Russia<br>Year=%{x}<br>Happiness Score=%{y}<extra></extra>",
         "legendgroup": "Russia",
         "line": {
          "color": "#19d3f3",
          "dash": "solid"
         },
         "marker": {
          "symbol": "circle"
         },
         "mode": "lines",
         "name": "Russia",
         "orientation": "v",
         "showlegend": true,
         "type": "scatter",
         "x": [
          "2018",
          "2019",
          "2020",
          "2021",
          "2022"
         ],
         "xaxis": "x",
         "y": [
          5.81,
          5.648,
          5.546000004,
          5.477,
          5.459
         ],
         "yaxis": "y"
        },
        {
         "hovertemplate": "Country=China<br>Year=%{x}<br>Happiness Score=%{y}<extra></extra>",
         "legendgroup": "China",
         "line": {
          "color": "#FF6692",
          "dash": "solid"
         },
         "marker": {
          "symbol": "circle"
         },
         "mode": "lines",
         "name": "China",
         "orientation": "v",
         "showlegend": true,
         "type": "scatter",
         "x": [
          "2018",
          "2019",
          "2020",
          "2021",
          "2022"
         ],
         "xaxis": "x",
         "y": [
          5.246,
          5.191,
          5.123899937,
          5.339,
          5.585
         ],
         "yaxis": "y"
        },
        {
         "hovertemplate": "Country=Venezuela<br>Year=%{x}<br>Happiness Score=%{y}<extra></extra>",
         "legendgroup": "Venezuela",
         "line": {
          "color": "#B6E880",
          "dash": "solid"
         },
         "marker": {
          "symbol": "circle"
         },
         "mode": "lines",
         "name": "Venezuela",
         "orientation": "v",
         "showlegend": true,
         "type": "scatter",
         "x": [
          "2018",
          "2019",
          "2020",
          "2021",
          "2022"
         ],
         "xaxis": "x",
         "y": [
          4.806,
          4.707,
          5.053199768,
          4.892,
          4.925
         ],
         "yaxis": "y"
        },
        {
         "hovertemplate": "Country=Iraq<br>Year=%{x}<br>Happiness Score=%{y}<extra></extra>",
         "legendgroup": "Iraq",
         "line": {
          "color": "#FF97FF",
          "dash": "solid"
         },
         "marker": {
          "symbol": "circle"
         },
         "mode": "lines",
         "name": "Iraq",
         "orientation": "v",
         "showlegend": true,
         "type": "scatter",
         "x": [
          "2018",
          "2019",
          "2020",
          "2021",
          "2022"
         ],
         "xaxis": "x",
         "y": [
          4.456,
          4.437,
          4.784800053,
          4.854,
          4.941
         ],
         "yaxis": "y"
        },
        {
         "hovertemplate": "Country=India<br>Year=%{x}<br>Happiness Score=%{y}<extra></extra>",
         "legendgroup": "India",
         "line": {
          "color": "#FECB52",
          "dash": "solid"
         },
         "marker": {
          "symbol": "circle"
         },
         "mode": "lines",
         "name": "India",
         "orientation": "v",
         "showlegend": true,
         "type": "scatter",
         "x": [
          "2018",
          "2019",
          "2020",
          "2021",
          "2022"
         ],
         "xaxis": "x",
         "y": [
          4.19,
          4.015,
          3.573299885,
          3.819,
          3.777
         ],
         "yaxis": "y"
        }
       ],
       "layout": {
        "legend": {
         "title": {
          "text": "Country"
         },
         "tracegroupgap": 0
        },
        "template": {
         "data": {
          "bar": [
           {
            "error_x": {
             "color": "#2a3f5f"
            },
            "error_y": {
             "color": "#2a3f5f"
            },
            "marker": {
             "line": {
              "color": "#E5ECF6",
              "width": 0.5
             },
             "pattern": {
              "fillmode": "overlay",
              "size": 10,
              "solidity": 0.2
             }
            },
            "type": "bar"
           }
          ],
          "barpolar": [
           {
            "marker": {
             "line": {
              "color": "#E5ECF6",
              "width": 0.5
             },
             "pattern": {
              "fillmode": "overlay",
              "size": 10,
              "solidity": 0.2
             }
            },
            "type": "barpolar"
           }
          ],
          "carpet": [
           {
            "aaxis": {
             "endlinecolor": "#2a3f5f",
             "gridcolor": "white",
             "linecolor": "white",
             "minorgridcolor": "white",
             "startlinecolor": "#2a3f5f"
            },
            "baxis": {
             "endlinecolor": "#2a3f5f",
             "gridcolor": "white",
             "linecolor": "white",
             "minorgridcolor": "white",
             "startlinecolor": "#2a3f5f"
            },
            "type": "carpet"
           }
          ],
          "choropleth": [
           {
            "colorbar": {
             "outlinewidth": 0,
             "ticks": ""
            },
            "type": "choropleth"
           }
          ],
          "contour": [
           {
            "colorbar": {
             "outlinewidth": 0,
             "ticks": ""
            },
            "colorscale": [
             [
              0,
              "#0d0887"
             ],
             [
              0.1111111111111111,
              "#46039f"
             ],
             [
              0.2222222222222222,
              "#7201a8"
             ],
             [
              0.3333333333333333,
              "#9c179e"
             ],
             [
              0.4444444444444444,
              "#bd3786"
             ],
             [
              0.5555555555555556,
              "#d8576b"
             ],
             [
              0.6666666666666666,
              "#ed7953"
             ],
             [
              0.7777777777777778,
              "#fb9f3a"
             ],
             [
              0.8888888888888888,
              "#fdca26"
             ],
             [
              1,
              "#f0f921"
             ]
            ],
            "type": "contour"
           }
          ],
          "contourcarpet": [
           {
            "colorbar": {
             "outlinewidth": 0,
             "ticks": ""
            },
            "type": "contourcarpet"
           }
          ],
          "heatmap": [
           {
            "colorbar": {
             "outlinewidth": 0,
             "ticks": ""
            },
            "colorscale": [
             [
              0,
              "#0d0887"
             ],
             [
              0.1111111111111111,
              "#46039f"
             ],
             [
              0.2222222222222222,
              "#7201a8"
             ],
             [
              0.3333333333333333,
              "#9c179e"
             ],
             [
              0.4444444444444444,
              "#bd3786"
             ],
             [
              0.5555555555555556,
              "#d8576b"
             ],
             [
              0.6666666666666666,
              "#ed7953"
             ],
             [
              0.7777777777777778,
              "#fb9f3a"
             ],
             [
              0.8888888888888888,
              "#fdca26"
             ],
             [
              1,
              "#f0f921"
             ]
            ],
            "type": "heatmap"
           }
          ],
          "heatmapgl": [
           {
            "colorbar": {
             "outlinewidth": 0,
             "ticks": ""
            },
            "colorscale": [
             [
              0,
              "#0d0887"
             ],
             [
              0.1111111111111111,
              "#46039f"
             ],
             [
              0.2222222222222222,
              "#7201a8"
             ],
             [
              0.3333333333333333,
              "#9c179e"
             ],
             [
              0.4444444444444444,
              "#bd3786"
             ],
             [
              0.5555555555555556,
              "#d8576b"
             ],
             [
              0.6666666666666666,
              "#ed7953"
             ],
             [
              0.7777777777777778,
              "#fb9f3a"
             ],
             [
              0.8888888888888888,
              "#fdca26"
             ],
             [
              1,
              "#f0f921"
             ]
            ],
            "type": "heatmapgl"
           }
          ],
          "histogram": [
           {
            "marker": {
             "pattern": {
              "fillmode": "overlay",
              "size": 10,
              "solidity": 0.2
             }
            },
            "type": "histogram"
           }
          ],
          "histogram2d": [
           {
            "colorbar": {
             "outlinewidth": 0,
             "ticks": ""
            },
            "colorscale": [
             [
              0,
              "#0d0887"
             ],
             [
              0.1111111111111111,
              "#46039f"
             ],
             [
              0.2222222222222222,
              "#7201a8"
             ],
             [
              0.3333333333333333,
              "#9c179e"
             ],
             [
              0.4444444444444444,
              "#bd3786"
             ],
             [
              0.5555555555555556,
              "#d8576b"
             ],
             [
              0.6666666666666666,
              "#ed7953"
             ],
             [
              0.7777777777777778,
              "#fb9f3a"
             ],
             [
              0.8888888888888888,
              "#fdca26"
             ],
             [
              1,
              "#f0f921"
             ]
            ],
            "type": "histogram2d"
           }
          ],
          "histogram2dcontour": [
           {
            "colorbar": {
             "outlinewidth": 0,
             "ticks": ""
            },
            "colorscale": [
             [
              0,
              "#0d0887"
             ],
             [
              0.1111111111111111,
              "#46039f"
             ],
             [
              0.2222222222222222,
              "#7201a8"
             ],
             [
              0.3333333333333333,
              "#9c179e"
             ],
             [
              0.4444444444444444,
              "#bd3786"
             ],
             [
              0.5555555555555556,
              "#d8576b"
             ],
             [
              0.6666666666666666,
              "#ed7953"
             ],
             [
              0.7777777777777778,
              "#fb9f3a"
             ],
             [
              0.8888888888888888,
              "#fdca26"
             ],
             [
              1,
              "#f0f921"
             ]
            ],
            "type": "histogram2dcontour"
           }
          ],
          "mesh3d": [
           {
            "colorbar": {
             "outlinewidth": 0,
             "ticks": ""
            },
            "type": "mesh3d"
           }
          ],
          "parcoords": [
           {
            "line": {
             "colorbar": {
              "outlinewidth": 0,
              "ticks": ""
             }
            },
            "type": "parcoords"
           }
          ],
          "pie": [
           {
            "automargin": true,
            "type": "pie"
           }
          ],
          "scatter": [
           {
            "fillpattern": {
             "fillmode": "overlay",
             "size": 10,
             "solidity": 0.2
            },
            "type": "scatter"
           }
          ],
          "scatter3d": [
           {
            "line": {
             "colorbar": {
              "outlinewidth": 0,
              "ticks": ""
             }
            },
            "marker": {
             "colorbar": {
              "outlinewidth": 0,
              "ticks": ""
             }
            },
            "type": "scatter3d"
           }
          ],
          "scattercarpet": [
           {
            "marker": {
             "colorbar": {
              "outlinewidth": 0,
              "ticks": ""
             }
            },
            "type": "scattercarpet"
           }
          ],
          "scattergeo": [
           {
            "marker": {
             "colorbar": {
              "outlinewidth": 0,
              "ticks": ""
             }
            },
            "type": "scattergeo"
           }
          ],
          "scattergl": [
           {
            "marker": {
             "colorbar": {
              "outlinewidth": 0,
              "ticks": ""
             }
            },
            "type": "scattergl"
           }
          ],
          "scattermapbox": [
           {
            "marker": {
             "colorbar": {
              "outlinewidth": 0,
              "ticks": ""
             }
            },
            "type": "scattermapbox"
           }
          ],
          "scatterpolar": [
           {
            "marker": {
             "colorbar": {
              "outlinewidth": 0,
              "ticks": ""
             }
            },
            "type": "scatterpolar"
           }
          ],
          "scatterpolargl": [
           {
            "marker": {
             "colorbar": {
              "outlinewidth": 0,
              "ticks": ""
             }
            },
            "type": "scatterpolargl"
           }
          ],
          "scatterternary": [
           {
            "marker": {
             "colorbar": {
              "outlinewidth": 0,
              "ticks": ""
             }
            },
            "type": "scatterternary"
           }
          ],
          "surface": [
           {
            "colorbar": {
             "outlinewidth": 0,
             "ticks": ""
            },
            "colorscale": [
             [
              0,
              "#0d0887"
             ],
             [
              0.1111111111111111,
              "#46039f"
             ],
             [
              0.2222222222222222,
              "#7201a8"
             ],
             [
              0.3333333333333333,
              "#9c179e"
             ],
             [
              0.4444444444444444,
              "#bd3786"
             ],
             [
              0.5555555555555556,
              "#d8576b"
             ],
             [
              0.6666666666666666,
              "#ed7953"
             ],
             [
              0.7777777777777778,
              "#fb9f3a"
             ],
             [
              0.8888888888888888,
              "#fdca26"
             ],
             [
              1,
              "#f0f921"
             ]
            ],
            "type": "surface"
           }
          ],
          "table": [
           {
            "cells": {
             "fill": {
              "color": "#EBF0F8"
             },
             "line": {
              "color": "white"
             }
            },
            "header": {
             "fill": {
              "color": "#C8D4E3"
             },
             "line": {
              "color": "white"
             }
            },
            "type": "table"
           }
          ]
         },
         "layout": {
          "annotationdefaults": {
           "arrowcolor": "#2a3f5f",
           "arrowhead": 0,
           "arrowwidth": 1
          },
          "autotypenumbers": "strict",
          "coloraxis": {
           "colorbar": {
            "outlinewidth": 0,
            "ticks": ""
           }
          },
          "colorscale": {
           "diverging": [
            [
             0,
             "#8e0152"
            ],
            [
             0.1,
             "#c51b7d"
            ],
            [
             0.2,
             "#de77ae"
            ],
            [
             0.3,
             "#f1b6da"
            ],
            [
             0.4,
             "#fde0ef"
            ],
            [
             0.5,
             "#f7f7f7"
            ],
            [
             0.6,
             "#e6f5d0"
            ],
            [
             0.7,
             "#b8e186"
            ],
            [
             0.8,
             "#7fbc41"
            ],
            [
             0.9,
             "#4d9221"
            ],
            [
             1,
             "#276419"
            ]
           ],
           "sequential": [
            [
             0,
             "#0d0887"
            ],
            [
             0.1111111111111111,
             "#46039f"
            ],
            [
             0.2222222222222222,
             "#7201a8"
            ],
            [
             0.3333333333333333,
             "#9c179e"
            ],
            [
             0.4444444444444444,
             "#bd3786"
            ],
            [
             0.5555555555555556,
             "#d8576b"
            ],
            [
             0.6666666666666666,
             "#ed7953"
            ],
            [
             0.7777777777777778,
             "#fb9f3a"
            ],
            [
             0.8888888888888888,
             "#fdca26"
            ],
            [
             1,
             "#f0f921"
            ]
           ],
           "sequentialminus": [
            [
             0,
             "#0d0887"
            ],
            [
             0.1111111111111111,
             "#46039f"
            ],
            [
             0.2222222222222222,
             "#7201a8"
            ],
            [
             0.3333333333333333,
             "#9c179e"
            ],
            [
             0.4444444444444444,
             "#bd3786"
            ],
            [
             0.5555555555555556,
             "#d8576b"
            ],
            [
             0.6666666666666666,
             "#ed7953"
            ],
            [
             0.7777777777777778,
             "#fb9f3a"
            ],
            [
             0.8888888888888888,
             "#fdca26"
            ],
            [
             1,
             "#f0f921"
            ]
           ]
          },
          "colorway": [
           "#636efa",
           "#EF553B",
           "#00cc96",
           "#ab63fa",
           "#FFA15A",
           "#19d3f3",
           "#FF6692",
           "#B6E880",
           "#FF97FF",
           "#FECB52"
          ],
          "font": {
           "color": "#2a3f5f"
          },
          "geo": {
           "bgcolor": "white",
           "lakecolor": "white",
           "landcolor": "#E5ECF6",
           "showlakes": true,
           "showland": true,
           "subunitcolor": "white"
          },
          "hoverlabel": {
           "align": "left"
          },
          "hovermode": "closest",
          "mapbox": {
           "style": "light"
          },
          "paper_bgcolor": "white",
          "plot_bgcolor": "#E5ECF6",
          "polar": {
           "angularaxis": {
            "gridcolor": "white",
            "linecolor": "white",
            "ticks": ""
           },
           "bgcolor": "#E5ECF6",
           "radialaxis": {
            "gridcolor": "white",
            "linecolor": "white",
            "ticks": ""
           }
          },
          "scene": {
           "xaxis": {
            "backgroundcolor": "#E5ECF6",
            "gridcolor": "white",
            "gridwidth": 2,
            "linecolor": "white",
            "showbackground": true,
            "ticks": "",
            "zerolinecolor": "white"
           },
           "yaxis": {
            "backgroundcolor": "#E5ECF6",
            "gridcolor": "white",
            "gridwidth": 2,
            "linecolor": "white",
            "showbackground": true,
            "ticks": "",
            "zerolinecolor": "white"
           },
           "zaxis": {
            "backgroundcolor": "#E5ECF6",
            "gridcolor": "white",
            "gridwidth": 2,
            "linecolor": "white",
            "showbackground": true,
            "ticks": "",
            "zerolinecolor": "white"
           }
          },
          "shapedefaults": {
           "line": {
            "color": "#2a3f5f"
           }
          },
          "ternary": {
           "aaxis": {
            "gridcolor": "white",
            "linecolor": "white",
            "ticks": ""
           },
           "baxis": {
            "gridcolor": "white",
            "linecolor": "white",
            "ticks": ""
           },
           "bgcolor": "#E5ECF6",
           "caxis": {
            "gridcolor": "white",
            "linecolor": "white",
            "ticks": ""
           }
          },
          "title": {
           "x": 0.05
          },
          "xaxis": {
           "automargin": true,
           "gridcolor": "white",
           "linecolor": "white",
           "ticks": "",
           "title": {
            "standoff": 15
           },
           "zerolinecolor": "white",
           "zerolinewidth": 2
          },
          "yaxis": {
           "automargin": true,
           "gridcolor": "white",
           "linecolor": "white",
           "ticks": "",
           "title": {
            "standoff": 15
           },
           "zerolinecolor": "white",
           "zerolinewidth": 2
          }
         }
        },
        "title": {
         "text": "Happiness Score"
        },
        "xaxis": {
         "anchor": "y",
         "domain": [
          0,
          1
         ],
         "title": {
          "text": "Year"
         }
        },
        "yaxis": {
         "anchor": "x",
         "domain": [
          0,
          1
         ],
         "title": {
          "text": "Happiness Score"
         }
        }
       }
      }
     },
     "metadata": {},
     "output_type": "display_data"
    },
    {
     "data": {
      "application/vnd.plotly.v1+json": {
       "config": {
        "plotlyServerURL": "https://plot.ly"
       },
       "data": [
        {
         "hovertemplate": "Country=Finland<br>Year=%{x}<br>Economy (GDP per Capita)=%{y}<extra></extra>",
         "legendgroup": "Finland",
         "line": {
          "color": "#636efa",
          "dash": "solid"
         },
         "marker": {
          "symbol": "circle"
         },
         "mode": "lines",
         "name": "Finland",
         "orientation": "v",
         "showlegend": true,
         "type": "scatter",
         "x": [
          "2018",
          "2019",
          "2020",
          "2021",
          "2022"
         ],
         "xaxis": "x",
         "y": [
          1.305,
          1.34,
          1.285189509,
          1.446,
          1.892
         ],
         "yaxis": "y"
        },
        {
         "hovertemplate": "Country=Norway<br>Year=%{x}<br>Economy (GDP per Capita)=%{y}<extra></extra>",
         "legendgroup": "Norway",
         "line": {
          "color": "#EF553B",
          "dash": "solid"
         },
         "marker": {
          "symbol": "circle"
         },
         "mode": "lines",
         "name": "Norway",
         "orientation": "v",
         "showlegend": true,
         "type": "scatter",
         "x": [
          "2018",
          "2019",
          "2020",
          "2021",
          "2022"
         ],
         "xaxis": "x",
         "y": [
          1.456,
          1.488,
          1.42420733,
          1.543,
          1.997
         ],
         "yaxis": "y"
        },
        {
         "hovertemplate": "Country=Denmark<br>Year=%{x}<br>Economy (GDP per Capita)=%{y}<extra></extra>",
         "legendgroup": "Denmark",
         "line": {
          "color": "#00cc96",
          "dash": "solid"
         },
         "marker": {
          "symbol": "circle"
         },
         "mode": "lines",
         "name": "Denmark",
         "orientation": "v",
         "showlegend": true,
         "type": "scatter",
         "x": [
          "2018",
          "2019",
          "2020",
          "2021",
          "2022"
         ],
         "xaxis": "x",
         "y": [
          1.351,
          1.383,
          1.326948524,
          1.502,
          1.953
         ],
         "yaxis": "y"
        },
        {
         "hovertemplate": "Country=Switzerland<br>Year=%{x}<br>Economy (GDP per Capita)=%{y}<extra></extra>",
         "legendgroup": "Switzerland",
         "line": {
          "color": "#ab63fa",
          "dash": "solid"
         },
         "marker": {
          "symbol": "circle"
         },
         "mode": "lines",
         "name": "Switzerland",
         "orientation": "v",
         "showlegend": true,
         "type": "scatter",
         "x": [
          "2018",
          "2019",
          "2020",
          "2021",
          "2022"
         ],
         "xaxis": "x",
         "y": [
          1.42,
          1.452,
          1.39077425,
          1.566,
          2.026
         ],
         "yaxis": "y"
        },
        {
         "hovertemplate": "Country=Canada<br>Year=%{x}<br>Economy (GDP per Capita)=%{y}<extra></extra>",
         "legendgroup": "Canada",
         "line": {
          "color": "#FFA15A",
          "dash": "solid"
         },
         "marker": {
          "symbol": "circle"
         },
         "mode": "lines",
         "name": "Canada",
         "orientation": "v",
         "showlegend": true,
         "type": "scatter",
         "x": [
          "2018",
          "2019",
          "2020",
          "2021",
          "2022"
         ],
         "xaxis": "x",
         "y": [
          1.33,
          1.365,
          1.301647663,
          1.447,
          1.886
         ],
         "yaxis": "y"
        },
        {
         "hovertemplate": "Country=Australia<br>Year=%{x}<br>Economy (GDP per Capita)=%{y}<extra></extra>",
         "legendgroup": "Australia",
         "line": {
          "color": "#19d3f3",
          "dash": "solid"
         },
         "marker": {
          "symbol": "circle"
         },
         "mode": "lines",
         "name": "Australia",
         "orientation": "v",
         "showlegend": true,
         "type": "scatter",
         "x": [
          "2018",
          "2019",
          "2020",
          "2021",
          "2022"
         ],
         "xaxis": "x",
         "y": [
          1.34,
          1.372,
          1.310396433,
          1.453,
          1.9
         ],
         "yaxis": "y"
        },
        {
         "hovertemplate": "Country=United Kingdom<br>Year=%{x}<br>Economy (GDP per Capita)=%{y}<extra></extra>",
         "legendgroup": "United Kingdom",
         "line": {
          "color": "#FF6692",
          "dash": "solid"
         },
         "marker": {
          "symbol": "circle"
         },
         "mode": "lines",
         "name": "United Kingdom",
         "orientation": "v",
         "showlegend": true,
         "type": "scatter",
         "x": [
          "2018",
          "2019",
          "2020",
          "2021",
          "2022"
         ],
         "xaxis": "x",
         "y": [
          1.244,
          1.333,
          1.273061037,
          1.423,
          1.867
         ],
         "yaxis": "y"
        },
        {
         "hovertemplate": "Country=Germany<br>Year=%{x}<br>Economy (GDP per Capita)=%{y}<extra></extra>",
         "legendgroup": "Germany",
         "line": {
          "color": "#B6E880",
          "dash": "solid"
         },
         "marker": {
          "symbol": "circle"
         },
         "mode": "lines",
         "name": "Germany",
         "orientation": "v",
         "showlegend": true,
         "type": "scatter",
         "x": [
          "2018",
          "2019",
          "2020",
          "2021",
          "2022"
         ],
         "xaxis": "x",
         "y": [
          1.34,
          1.373,
          1.314184546,
          1.48,
          1.924
         ],
         "yaxis": "y"
        },
        {
         "hovertemplate": "Country=United States<br>Year=%{x}<br>Economy (GDP per Capita)=%{y}<extra></extra>",
         "legendgroup": "United States",
         "line": {
          "color": "#FF97FF",
          "dash": "solid"
         },
         "marker": {
          "symbol": "circle"
         },
         "mode": "lines",
         "name": "United States",
         "orientation": "v",
         "showlegend": true,
         "type": "scatter",
         "x": [
          "2018",
          "2019",
          "2020",
          "2021",
          "2022"
         ],
         "xaxis": "x",
         "y": [
          1.398,
          1.433,
          1.37398684,
          1.533,
          1.982
         ],
         "yaxis": "y"
        },
        {
         "hovertemplate": "Country=France<br>Year=%{x}<br>Economy (GDP per Capita)=%{y}<extra></extra>",
         "legendgroup": "France",
         "line": {
          "color": "#FECB52",
          "dash": "solid"
         },
         "marker": {
          "symbol": "circle"
         },
         "mode": "lines",
         "name": "France",
         "orientation": "v",
         "showlegend": true,
         "type": "scatter",
         "x": [
          "2018",
          "2019",
          "2020",
          "2021",
          "2022"
         ],
         "xaxis": "x",
         "y": [
          1.293,
          1.324,
          1.268129349,
          1.421,
          1.863
         ],
         "yaxis": "y"
        },
        {
         "hovertemplate": "Country=Mexico<br>Year=%{x}<br>Economy (GDP per Capita)=%{y}<extra></extra>",
         "legendgroup": "Mexico",
         "line": {
          "color": "#636efa",
          "dash": "solid"
         },
         "marker": {
          "symbol": "circle"
         },
         "mode": "lines",
         "name": "Mexico",
         "orientation": "v",
         "showlegend": true,
         "type": "scatter",
         "x": [
          "2018",
          "2019",
          "2020",
          "2021",
          "2022"
         ],
         "xaxis": "x",
         "y": [
          1.038,
          1.07,
          1.024387479,
          1.126,
          1.552
         ],
         "yaxis": "y"
        },
        {
         "hovertemplate": "Country=Brazil<br>Year=%{x}<br>Economy (GDP per Capita)=%{y}<extra></extra>",
         "legendgroup": "Brazil",
         "line": {
          "color": "#EF553B",
          "dash": "solid"
         },
         "marker": {
          "symbol": "circle"
         },
         "mode": "lines",
         "name": "Brazil",
         "orientation": "v",
         "showlegend": true,
         "type": "scatter",
         "x": [
          "2018",
          "2019",
          "2020",
          "2021",
          "2022"
         ],
         "xaxis": "x",
         "y": [
          0.986,
          1.004,
          0.952679873,
          1.028,
          1.462
         ],
         "yaxis": "y"
        },
        {
         "hovertemplate": "Country=Saudi Arabia<br>Year=%{x}<br>Economy (GDP per Capita)=%{y}<extra></extra>",
         "legendgroup": "Saudi Arabia",
         "line": {
          "color": "#00cc96",
          "dash": "solid"
         },
         "marker": {
          "symbol": "circle"
         },
         "mode": "lines",
         "name": "Saudi Arabia",
         "orientation": "v",
         "showlegend": true,
         "type": "scatter",
         "x": [
          "2018",
          "2019",
          "2020",
          "2021",
          "2022"
         ],
         "xaxis": "x",
         "y": [
          1.379,
          1.403,
          1.334328532,
          1.435,
          1.87
         ],
         "yaxis": "y"
        },
        {
         "hovertemplate": "Country=Spain<br>Year=%{x}<br>Economy (GDP per Capita)=%{y}<extra></extra>",
         "legendgroup": "Spain",
         "line": {
          "color": "#ab63fa",
          "dash": "solid"
         },
         "marker": {
          "symbol": "circle"
         },
         "mode": "lines",
         "name": "Spain",
         "orientation": "v",
         "showlegend": true,
         "type": "scatter",
         "x": [
          "2018",
          "2019",
          "2020",
          "2021",
          "2022"
         ],
         "xaxis": "x",
         "y": [
          1.251,
          1.286,
          1.230535269,
          1.375,
          1.808
         ],
         "yaxis": "y"
        },
        {
         "hovertemplate": "Country=Japan<br>Year=%{x}<br>Economy (GDP per Capita)=%{y}<extra></extra>",
         "legendgroup": "Japan",
         "line": {
          "color": "#FFA15A",
          "dash": "solid"
         },
         "marker": {
          "symbol": "circle"
         },
         "mode": "lines",
         "name": "Japan",
         "orientation": "v",
         "showlegend": true,
         "type": "scatter",
         "x": [
          "2018",
          "2019",
          "2020",
          "2021",
          "2022"
         ],
         "xaxis": "x",
         "y": [
          1.294,
          1.327,
          1.26672411,
          1.389,
          1.835
         ],
         "yaxis": "y"
        },
        {
         "hovertemplate": "Country=Russia<br>Year=%{x}<br>Economy (GDP per Capita)=%{y}<extra></extra>",
         "legendgroup": "Russia",
         "line": {
          "color": "#19d3f3",
          "dash": "solid"
         },
         "marker": {
          "symbol": "circle"
         },
         "mode": "lines",
         "name": "Russia",
         "orientation": "v",
         "showlegend": true,
         "type": "scatter",
         "x": [
          "2018",
          "2019",
          "2020",
          "2021",
          "2022"
         ],
         "xaxis": "x",
         "y": [
          1.151,
          1.183,
          1.126999617,
          1.241,
          1.685
         ],
         "yaxis": "y"
        },
        {
         "hovertemplate": "Country=China<br>Year=%{x}<br>Economy (GDP per Capita)=%{y}<extra></extra>",
         "legendgroup": "China",
         "line": {
          "color": "#FF6692",
          "dash": "solid"
         },
         "marker": {
          "symbol": "circle"
         },
         "mode": "lines",
         "name": "China",
         "orientation": "v",
         "showlegend": true,
         "type": "scatter",
         "x": [
          "2018",
          "2019",
          "2020",
          "2021",
          "2022"
         ],
         "xaxis": "x",
         "y": [
          0.989,
          1.029,
          0.990533412,
          1.061,
          1.508
         ],
         "yaxis": "y"
        },
        {
         "hovertemplate": "Country=Venezuela<br>Year=%{x}<br>Economy (GDP per Capita)=%{y}<extra></extra>",
         "legendgroup": "Venezuela",
         "line": {
          "color": "#B6E880",
          "dash": "solid"
         },
         "marker": {
          "symbol": "circle"
         },
         "mode": "lines",
         "name": "Venezuela",
         "orientation": "v",
         "showlegend": true,
         "type": "scatter",
         "x": [
          "2018",
          "2019",
          "2020",
          "2021",
          "2022"
         ],
         "xaxis": "x",
         "y": [
          0.996,
          0.96,
          0.770238638,
          0.852,
          0
         ],
         "yaxis": "y"
        },
        {
         "hovertemplate": "Country=Iraq<br>Year=%{x}<br>Economy (GDP per Capita)=%{y}<extra></extra>",
         "legendgroup": "Iraq",
         "line": {
          "color": "#FF97FF",
          "dash": "solid"
         },
         "marker": {
          "symbol": "circle"
         },
         "mode": "lines",
         "name": "Iraq",
         "orientation": "v",
         "showlegend": true,
         "type": "scatter",
         "x": [
          "2018",
          "2019",
          "2020",
          "2021",
          "2022"
         ],
         "xaxis": "x",
         "y": [
          1.01,
          1.043,
          0.982018709,
          0.91,
          1.289
         ],
         "yaxis": "y"
        },
        {
         "hovertemplate": "Country=India<br>Year=%{x}<br>Economy (GDP per Capita)=%{y}<extra></extra>",
         "legendgroup": "India",
         "line": {
          "color": "#FECB52",
          "dash": "solid"
         },
         "marker": {
          "symbol": "circle"
         },
         "mode": "lines",
         "name": "India",
         "orientation": "v",
         "showlegend": true,
         "type": "scatter",
         "x": [
          "2018",
          "2019",
          "2020",
          "2021",
          "2022"
         ],
         "xaxis": "x",
         "y": [
          0.721,
          0.755,
          0.730576158,
          0.741,
          1.167
         ],
         "yaxis": "y"
        }
       ],
       "layout": {
        "legend": {
         "title": {
          "text": "Country"
         },
         "tracegroupgap": 0
        },
        "template": {
         "data": {
          "bar": [
           {
            "error_x": {
             "color": "#2a3f5f"
            },
            "error_y": {
             "color": "#2a3f5f"
            },
            "marker": {
             "line": {
              "color": "#E5ECF6",
              "width": 0.5
             },
             "pattern": {
              "fillmode": "overlay",
              "size": 10,
              "solidity": 0.2
             }
            },
            "type": "bar"
           }
          ],
          "barpolar": [
           {
            "marker": {
             "line": {
              "color": "#E5ECF6",
              "width": 0.5
             },
             "pattern": {
              "fillmode": "overlay",
              "size": 10,
              "solidity": 0.2
             }
            },
            "type": "barpolar"
           }
          ],
          "carpet": [
           {
            "aaxis": {
             "endlinecolor": "#2a3f5f",
             "gridcolor": "white",
             "linecolor": "white",
             "minorgridcolor": "white",
             "startlinecolor": "#2a3f5f"
            },
            "baxis": {
             "endlinecolor": "#2a3f5f",
             "gridcolor": "white",
             "linecolor": "white",
             "minorgridcolor": "white",
             "startlinecolor": "#2a3f5f"
            },
            "type": "carpet"
           }
          ],
          "choropleth": [
           {
            "colorbar": {
             "outlinewidth": 0,
             "ticks": ""
            },
            "type": "choropleth"
           }
          ],
          "contour": [
           {
            "colorbar": {
             "outlinewidth": 0,
             "ticks": ""
            },
            "colorscale": [
             [
              0,
              "#0d0887"
             ],
             [
              0.1111111111111111,
              "#46039f"
             ],
             [
              0.2222222222222222,
              "#7201a8"
             ],
             [
              0.3333333333333333,
              "#9c179e"
             ],
             [
              0.4444444444444444,
              "#bd3786"
             ],
             [
              0.5555555555555556,
              "#d8576b"
             ],
             [
              0.6666666666666666,
              "#ed7953"
             ],
             [
              0.7777777777777778,
              "#fb9f3a"
             ],
             [
              0.8888888888888888,
              "#fdca26"
             ],
             [
              1,
              "#f0f921"
             ]
            ],
            "type": "contour"
           }
          ],
          "contourcarpet": [
           {
            "colorbar": {
             "outlinewidth": 0,
             "ticks": ""
            },
            "type": "contourcarpet"
           }
          ],
          "heatmap": [
           {
            "colorbar": {
             "outlinewidth": 0,
             "ticks": ""
            },
            "colorscale": [
             [
              0,
              "#0d0887"
             ],
             [
              0.1111111111111111,
              "#46039f"
             ],
             [
              0.2222222222222222,
              "#7201a8"
             ],
             [
              0.3333333333333333,
              "#9c179e"
             ],
             [
              0.4444444444444444,
              "#bd3786"
             ],
             [
              0.5555555555555556,
              "#d8576b"
             ],
             [
              0.6666666666666666,
              "#ed7953"
             ],
             [
              0.7777777777777778,
              "#fb9f3a"
             ],
             [
              0.8888888888888888,
              "#fdca26"
             ],
             [
              1,
              "#f0f921"
             ]
            ],
            "type": "heatmap"
           }
          ],
          "heatmapgl": [
           {
            "colorbar": {
             "outlinewidth": 0,
             "ticks": ""
            },
            "colorscale": [
             [
              0,
              "#0d0887"
             ],
             [
              0.1111111111111111,
              "#46039f"
             ],
             [
              0.2222222222222222,
              "#7201a8"
             ],
             [
              0.3333333333333333,
              "#9c179e"
             ],
             [
              0.4444444444444444,
              "#bd3786"
             ],
             [
              0.5555555555555556,
              "#d8576b"
             ],
             [
              0.6666666666666666,
              "#ed7953"
             ],
             [
              0.7777777777777778,
              "#fb9f3a"
             ],
             [
              0.8888888888888888,
              "#fdca26"
             ],
             [
              1,
              "#f0f921"
             ]
            ],
            "type": "heatmapgl"
           }
          ],
          "histogram": [
           {
            "marker": {
             "pattern": {
              "fillmode": "overlay",
              "size": 10,
              "solidity": 0.2
             }
            },
            "type": "histogram"
           }
          ],
          "histogram2d": [
           {
            "colorbar": {
             "outlinewidth": 0,
             "ticks": ""
            },
            "colorscale": [
             [
              0,
              "#0d0887"
             ],
             [
              0.1111111111111111,
              "#46039f"
             ],
             [
              0.2222222222222222,
              "#7201a8"
             ],
             [
              0.3333333333333333,
              "#9c179e"
             ],
             [
              0.4444444444444444,
              "#bd3786"
             ],
             [
              0.5555555555555556,
              "#d8576b"
             ],
             [
              0.6666666666666666,
              "#ed7953"
             ],
             [
              0.7777777777777778,
              "#fb9f3a"
             ],
             [
              0.8888888888888888,
              "#fdca26"
             ],
             [
              1,
              "#f0f921"
             ]
            ],
            "type": "histogram2d"
           }
          ],
          "histogram2dcontour": [
           {
            "colorbar": {
             "outlinewidth": 0,
             "ticks": ""
            },
            "colorscale": [
             [
              0,
              "#0d0887"
             ],
             [
              0.1111111111111111,
              "#46039f"
             ],
             [
              0.2222222222222222,
              "#7201a8"
             ],
             [
              0.3333333333333333,
              "#9c179e"
             ],
             [
              0.4444444444444444,
              "#bd3786"
             ],
             [
              0.5555555555555556,
              "#d8576b"
             ],
             [
              0.6666666666666666,
              "#ed7953"
             ],
             [
              0.7777777777777778,
              "#fb9f3a"
             ],
             [
              0.8888888888888888,
              "#fdca26"
             ],
             [
              1,
              "#f0f921"
             ]
            ],
            "type": "histogram2dcontour"
           }
          ],
          "mesh3d": [
           {
            "colorbar": {
             "outlinewidth": 0,
             "ticks": ""
            },
            "type": "mesh3d"
           }
          ],
          "parcoords": [
           {
            "line": {
             "colorbar": {
              "outlinewidth": 0,
              "ticks": ""
             }
            },
            "type": "parcoords"
           }
          ],
          "pie": [
           {
            "automargin": true,
            "type": "pie"
           }
          ],
          "scatter": [
           {
            "fillpattern": {
             "fillmode": "overlay",
             "size": 10,
             "solidity": 0.2
            },
            "type": "scatter"
           }
          ],
          "scatter3d": [
           {
            "line": {
             "colorbar": {
              "outlinewidth": 0,
              "ticks": ""
             }
            },
            "marker": {
             "colorbar": {
              "outlinewidth": 0,
              "ticks": ""
             }
            },
            "type": "scatter3d"
           }
          ],
          "scattercarpet": [
           {
            "marker": {
             "colorbar": {
              "outlinewidth": 0,
              "ticks": ""
             }
            },
            "type": "scattercarpet"
           }
          ],
          "scattergeo": [
           {
            "marker": {
             "colorbar": {
              "outlinewidth": 0,
              "ticks": ""
             }
            },
            "type": "scattergeo"
           }
          ],
          "scattergl": [
           {
            "marker": {
             "colorbar": {
              "outlinewidth": 0,
              "ticks": ""
             }
            },
            "type": "scattergl"
           }
          ],
          "scattermapbox": [
           {
            "marker": {
             "colorbar": {
              "outlinewidth": 0,
              "ticks": ""
             }
            },
            "type": "scattermapbox"
           }
          ],
          "scatterpolar": [
           {
            "marker": {
             "colorbar": {
              "outlinewidth": 0,
              "ticks": ""
             }
            },
            "type": "scatterpolar"
           }
          ],
          "scatterpolargl": [
           {
            "marker": {
             "colorbar": {
              "outlinewidth": 0,
              "ticks": ""
             }
            },
            "type": "scatterpolargl"
           }
          ],
          "scatterternary": [
           {
            "marker": {
             "colorbar": {
              "outlinewidth": 0,
              "ticks": ""
             }
            },
            "type": "scatterternary"
           }
          ],
          "surface": [
           {
            "colorbar": {
             "outlinewidth": 0,
             "ticks": ""
            },
            "colorscale": [
             [
              0,
              "#0d0887"
             ],
             [
              0.1111111111111111,
              "#46039f"
             ],
             [
              0.2222222222222222,
              "#7201a8"
             ],
             [
              0.3333333333333333,
              "#9c179e"
             ],
             [
              0.4444444444444444,
              "#bd3786"
             ],
             [
              0.5555555555555556,
              "#d8576b"
             ],
             [
              0.6666666666666666,
              "#ed7953"
             ],
             [
              0.7777777777777778,
              "#fb9f3a"
             ],
             [
              0.8888888888888888,
              "#fdca26"
             ],
             [
              1,
              "#f0f921"
             ]
            ],
            "type": "surface"
           }
          ],
          "table": [
           {
            "cells": {
             "fill": {
              "color": "#EBF0F8"
             },
             "line": {
              "color": "white"
             }
            },
            "header": {
             "fill": {
              "color": "#C8D4E3"
             },
             "line": {
              "color": "white"
             }
            },
            "type": "table"
           }
          ]
         },
         "layout": {
          "annotationdefaults": {
           "arrowcolor": "#2a3f5f",
           "arrowhead": 0,
           "arrowwidth": 1
          },
          "autotypenumbers": "strict",
          "coloraxis": {
           "colorbar": {
            "outlinewidth": 0,
            "ticks": ""
           }
          },
          "colorscale": {
           "diverging": [
            [
             0,
             "#8e0152"
            ],
            [
             0.1,
             "#c51b7d"
            ],
            [
             0.2,
             "#de77ae"
            ],
            [
             0.3,
             "#f1b6da"
            ],
            [
             0.4,
             "#fde0ef"
            ],
            [
             0.5,
             "#f7f7f7"
            ],
            [
             0.6,
             "#e6f5d0"
            ],
            [
             0.7,
             "#b8e186"
            ],
            [
             0.8,
             "#7fbc41"
            ],
            [
             0.9,
             "#4d9221"
            ],
            [
             1,
             "#276419"
            ]
           ],
           "sequential": [
            [
             0,
             "#0d0887"
            ],
            [
             0.1111111111111111,
             "#46039f"
            ],
            [
             0.2222222222222222,
             "#7201a8"
            ],
            [
             0.3333333333333333,
             "#9c179e"
            ],
            [
             0.4444444444444444,
             "#bd3786"
            ],
            [
             0.5555555555555556,
             "#d8576b"
            ],
            [
             0.6666666666666666,
             "#ed7953"
            ],
            [
             0.7777777777777778,
             "#fb9f3a"
            ],
            [
             0.8888888888888888,
             "#fdca26"
            ],
            [
             1,
             "#f0f921"
            ]
           ],
           "sequentialminus": [
            [
             0,
             "#0d0887"
            ],
            [
             0.1111111111111111,
             "#46039f"
            ],
            [
             0.2222222222222222,
             "#7201a8"
            ],
            [
             0.3333333333333333,
             "#9c179e"
            ],
            [
             0.4444444444444444,
             "#bd3786"
            ],
            [
             0.5555555555555556,
             "#d8576b"
            ],
            [
             0.6666666666666666,
             "#ed7953"
            ],
            [
             0.7777777777777778,
             "#fb9f3a"
            ],
            [
             0.8888888888888888,
             "#fdca26"
            ],
            [
             1,
             "#f0f921"
            ]
           ]
          },
          "colorway": [
           "#636efa",
           "#EF553B",
           "#00cc96",
           "#ab63fa",
           "#FFA15A",
           "#19d3f3",
           "#FF6692",
           "#B6E880",
           "#FF97FF",
           "#FECB52"
          ],
          "font": {
           "color": "#2a3f5f"
          },
          "geo": {
           "bgcolor": "white",
           "lakecolor": "white",
           "landcolor": "#E5ECF6",
           "showlakes": true,
           "showland": true,
           "subunitcolor": "white"
          },
          "hoverlabel": {
           "align": "left"
          },
          "hovermode": "closest",
          "mapbox": {
           "style": "light"
          },
          "paper_bgcolor": "white",
          "plot_bgcolor": "#E5ECF6",
          "polar": {
           "angularaxis": {
            "gridcolor": "white",
            "linecolor": "white",
            "ticks": ""
           },
           "bgcolor": "#E5ECF6",
           "radialaxis": {
            "gridcolor": "white",
            "linecolor": "white",
            "ticks": ""
           }
          },
          "scene": {
           "xaxis": {
            "backgroundcolor": "#E5ECF6",
            "gridcolor": "white",
            "gridwidth": 2,
            "linecolor": "white",
            "showbackground": true,
            "ticks": "",
            "zerolinecolor": "white"
           },
           "yaxis": {
            "backgroundcolor": "#E5ECF6",
            "gridcolor": "white",
            "gridwidth": 2,
            "linecolor": "white",
            "showbackground": true,
            "ticks": "",
            "zerolinecolor": "white"
           },
           "zaxis": {
            "backgroundcolor": "#E5ECF6",
            "gridcolor": "white",
            "gridwidth": 2,
            "linecolor": "white",
            "showbackground": true,
            "ticks": "",
            "zerolinecolor": "white"
           }
          },
          "shapedefaults": {
           "line": {
            "color": "#2a3f5f"
           }
          },
          "ternary": {
           "aaxis": {
            "gridcolor": "white",
            "linecolor": "white",
            "ticks": ""
           },
           "baxis": {
            "gridcolor": "white",
            "linecolor": "white",
            "ticks": ""
           },
           "bgcolor": "#E5ECF6",
           "caxis": {
            "gridcolor": "white",
            "linecolor": "white",
            "ticks": ""
           }
          },
          "title": {
           "x": 0.05
          },
          "xaxis": {
           "automargin": true,
           "gridcolor": "white",
           "linecolor": "white",
           "ticks": "",
           "title": {
            "standoff": 15
           },
           "zerolinecolor": "white",
           "zerolinewidth": 2
          },
          "yaxis": {
           "automargin": true,
           "gridcolor": "white",
           "linecolor": "white",
           "ticks": "",
           "title": {
            "standoff": 15
           },
           "zerolinecolor": "white",
           "zerolinewidth": 2
          }
         }
        },
        "title": {
         "text": "Economy (GDP per Capita)"
        },
        "xaxis": {
         "anchor": "y",
         "domain": [
          0,
          1
         ],
         "title": {
          "text": "Year"
         }
        },
        "yaxis": {
         "anchor": "x",
         "domain": [
          0,
          1
         ],
         "title": {
          "text": "Economy (GDP per Capita)"
         }
        }
       }
      }
     },
     "metadata": {},
     "output_type": "display_data"
    },
    {
     "data": {
      "application/vnd.plotly.v1+json": {
       "config": {
        "plotlyServerURL": "https://plot.ly"
       },
       "data": [
        {
         "hovertemplate": "Country=Finland<br>Year=%{x}<br>Health (Life Expectancy)=%{y}<extra></extra>",
         "legendgroup": "Finland",
         "line": {
          "color": "#636efa",
          "dash": "solid"
         },
         "marker": {
          "symbol": "circle"
         },
         "mode": "lines",
         "name": "Finland",
         "orientation": "v",
         "showlegend": true,
         "type": "scatter",
         "x": [
          "2018",
          "2019",
          "2020",
          "2021",
          "2022"
         ],
         "xaxis": "x",
         "y": [
          0.874,
          0.986,
          0.961271405,
          0.741,
          0.775
         ],
         "yaxis": "y"
        },
        {
         "hovertemplate": "Country=Norway<br>Year=%{x}<br>Health (Life Expectancy)=%{y}<extra></extra>",
         "legendgroup": "Norway",
         "line": {
          "color": "#EF553B",
          "dash": "solid"
         },
         "marker": {
          "symbol": "circle"
         },
         "mode": "lines",
         "name": "Norway",
         "orientation": "v",
         "showlegend": true,
         "type": "scatter",
         "x": [
          "2018",
          "2019",
          "2020",
          "2021",
          "2022"
         ],
         "xaxis": "x",
         "y": [
          0.861,
          1.028,
          1.008071899,
          0.782,
          0.786
         ],
         "yaxis": "y"
        },
        {
         "hovertemplate": "Country=Denmark<br>Year=%{x}<br>Health (Life Expectancy)=%{y}<extra></extra>",
         "legendgroup": "Denmark",
         "line": {
          "color": "#00cc96",
          "dash": "solid"
         },
         "marker": {
          "symbol": "circle"
         },
         "mode": "lines",
         "name": "Denmark",
         "orientation": "v",
         "showlegend": true,
         "type": "scatter",
         "x": [
          "2018",
          "2019",
          "2020",
          "2021",
          "2022"
         ],
         "xaxis": "x",
         "y": [
          0.868,
          0.996,
          0.979332566,
          0.763,
          0.777
         ],
         "yaxis": "y"
        },
        {
         "hovertemplate": "Country=Switzerland<br>Year=%{x}<br>Health (Life Expectancy)=%{y}<extra></extra>",
         "legendgroup": "Switzerland",
         "line": {
          "color": "#ab63fa",
          "dash": "solid"
         },
         "marker": {
          "symbol": "circle"
         },
         "mode": "lines",
         "name": "Switzerland",
         "orientation": "v",
         "showlegend": true,
         "type": "scatter",
         "x": [
          "2018",
          "2019",
          "2020",
          "2021",
          "2022"
         ],
         "xaxis": "x",
         "y": [
          0.927,
          1.052,
          1.040533185,
          0.816,
          0.822
         ],
         "yaxis": "y"
        },
        {
         "hovertemplate": "Country=Canada<br>Year=%{x}<br>Health (Life Expectancy)=%{y}<extra></extra>",
         "legendgroup": "Canada",
         "line": {
          "color": "#FFA15A",
          "dash": "solid"
         },
         "marker": {
          "symbol": "circle"
         },
         "mode": "lines",
         "name": "Canada",
         "orientation": "v",
         "showlegend": true,
         "type": "scatter",
         "x": [
          "2018",
          "2019",
          "2020",
          "2021",
          "2022"
         ],
         "xaxis": "x",
         "y": [
          0.896,
          1.039,
          1.022501945,
          0.798,
          0.783
         ],
         "yaxis": "y"
        },
        {
         "hovertemplate": "Country=Australia<br>Year=%{x}<br>Health (Life Expectancy)=%{y}<extra></extra>",
         "legendgroup": "Australia",
         "line": {
          "color": "#19d3f3",
          "dash": "solid"
         },
         "marker": {
          "symbol": "circle"
         },
         "mode": "lines",
         "name": "Australia",
         "orientation": "v",
         "showlegend": true,
         "type": "scatter",
         "x": [
          "2018",
          "2019",
          "2020",
          "2021",
          "2022"
         ],
         "xaxis": "x",
         "y": [
          0.91,
          1.036,
          1.022607684,
          0.801,
          0.772
         ],
         "yaxis": "y"
        },
        {
         "hovertemplate": "Country=United Kingdom<br>Year=%{x}<br>Health (Life Expectancy)=%{y}<extra></extra>",
         "legendgroup": "United Kingdom",
         "line": {
          "color": "#FF6692",
          "dash": "solid"
         },
         "marker": {
          "symbol": "circle"
         },
         "mode": "lines",
         "name": "United Kingdom",
         "orientation": "v",
         "showlegend": true,
         "type": "scatter",
         "x": [
          "2018",
          "2019",
          "2020",
          "2021",
          "2022"
         ],
         "xaxis": "x",
         "y": [
          0.888,
          0.996,
          0.97570008,
          0.757,
          0.75
         ],
         "yaxis": "y"
        },
        {
         "hovertemplate": "Country=Germany<br>Year=%{x}<br>Health (Life Expectancy)=%{y}<extra></extra>",
         "legendgroup": "Germany",
         "line": {
          "color": "#B6E880",
          "dash": "solid"
         },
         "marker": {
          "symbol": "circle"
         },
         "mode": "lines",
         "name": "Germany",
         "orientation": "v",
         "showlegend": true,
         "type": "scatter",
         "x": [
          "2018",
          "2019",
          "2020",
          "2021",
          "2022"
         ],
         "xaxis": "x",
         "y": [
          0.861,
          0.987,
          0.972114801,
          0.757,
          0.776
         ],
         "yaxis": "y"
        },
        {
         "hovertemplate": "Country=United States<br>Year=%{x}<br>Health (Life Expectancy)=%{y}<extra></extra>",
         "legendgroup": "United States",
         "line": {
          "color": "#FF97FF",
          "dash": "solid"
         },
         "marker": {
          "symbol": "circle"
         },
         "mode": "lines",
         "name": "United States",
         "orientation": "v",
         "showlegend": true,
         "type": "scatter",
         "x": [
          "2018",
          "2019",
          "2020",
          "2021",
          "2022"
         ],
         "xaxis": "x",
         "y": [
          0.819,
          0.874,
          0.831618011,
          0.621,
          0.628
         ],
         "yaxis": "y"
        },
        {
         "hovertemplate": "Country=France<br>Year=%{x}<br>Health (Life Expectancy)=%{y}<extra></extra>",
         "legendgroup": "France",
         "line": {
          "color": "#FECB52",
          "dash": "solid"
         },
         "marker": {
          "symbol": "circle"
         },
         "mode": "lines",
         "name": "France",
         "orientation": "v",
         "showlegend": true,
         "type": "scatter",
         "x": [
          "2018",
          "2019",
          "2020",
          "2021",
          "2022"
         ],
         "xaxis": "x",
         "y": [
          0.908,
          1.045,
          1.029714227,
          0.804,
          0.808
         ],
         "yaxis": "y"
        },
        {
         "hovertemplate": "Country=Mexico<br>Year=%{x}<br>Health (Life Expectancy)=%{y}<extra></extra>",
         "legendgroup": "Mexico",
         "line": {
          "color": "#636efa",
          "dash": "solid"
         },
         "marker": {
          "symbol": "circle"
         },
         "mode": "lines",
         "name": "Mexico",
         "orientation": "v",
         "showlegend": true,
         "type": "scatter",
         "x": [
          "2018",
          "2019",
          "2020",
          "2021",
          "2022"
         ],
         "xaxis": "x",
         "y": [
          0.761,
          0.861,
          0.831601024,
          0.634,
          0.623
         ],
         "yaxis": "y"
        },
        {
         "hovertemplate": "Country=Brazil<br>Year=%{x}<br>Health (Life Expectancy)=%{y}<extra></extra>",
         "legendgroup": "Brazil",
         "line": {
          "color": "#EF553B",
          "dash": "solid"
         },
         "marker": {
          "symbol": "circle"
         },
         "mode": "lines",
         "name": "Brazil",
         "orientation": "v",
         "showlegend": true,
         "type": "scatter",
         "x": [
          "2018",
          "2019",
          "2020",
          "2021",
          "2022"
         ],
         "xaxis": "x",
         "y": [
          0.675,
          0.802,
          0.766119063,
          0.571,
          0.615
         ],
         "yaxis": "y"
        },
        {
         "hovertemplate": "Country=Saudi Arabia<br>Year=%{x}<br>Health (Life Expectancy)=%{y}<extra></extra>",
         "legendgroup": "Saudi Arabia",
         "line": {
          "color": "#00cc96",
          "dash": "solid"
         },
         "marker": {
          "symbol": "circle"
         },
         "mode": "lines",
         "name": "Saudi Arabia",
         "orientation": "v",
         "showlegend": true,
         "type": "scatter",
         "x": [
          "2018",
          "2019",
          "2020",
          "2021",
          "2022"
         ],
         "xaxis": "x",
         "y": [
          0.633,
          0.795,
          0.759818137,
          0.571,
          0.577
         ],
         "yaxis": "y"
        },
        {
         "hovertemplate": "Country=Spain<br>Year=%{x}<br>Health (Life Expectancy)=%{y}<extra></extra>",
         "legendgroup": "Spain",
         "line": {
          "color": "#ab63fa",
          "dash": "solid"
         },
         "marker": {
          "symbol": "circle"
         },
         "mode": "lines",
         "name": "Spain",
         "orientation": "v",
         "showlegend": true,
         "type": "scatter",
         "x": [
          "2018",
          "2019",
          "2020",
          "2021",
          "2022"
         ],
         "xaxis": "x",
         "y": [
          0.965,
          1.062,
          1.051343083,
          0.826,
          0.808
         ],
         "yaxis": "y"
        },
        {
         "hovertemplate": "Country=Japan<br>Year=%{x}<br>Health (Life Expectancy)=%{y}<extra></extra>",
         "legendgroup": "Japan",
         "line": {
          "color": "#FFA15A",
          "dash": "solid"
         },
         "marker": {
          "symbol": "circle"
         },
         "mode": "lines",
         "name": "Japan",
         "orientation": "v",
         "showlegend": true,
         "type": "scatter",
         "x": [
          "2018",
          "2019",
          "2020",
          "2021",
          "2022"
         ],
         "xaxis": "x",
         "y": [
          0.988,
          1.088,
          1.072881341,
          0.838,
          0.866
         ],
         "yaxis": "y"
        },
        {
         "hovertemplate": "Country=Russia<br>Year=%{x}<br>Health (Life Expectancy)=%{y}<extra></extra>",
         "legendgroup": "Russia",
         "line": {
          "color": "#19d3f3",
          "dash": "solid"
         },
         "marker": {
          "symbol": "circle"
         },
         "mode": "lines",
         "name": "Russia",
         "orientation": "v",
         "showlegend": true,
         "type": "scatter",
         "x": [
          "2018",
          "2019",
          "2020",
          "2021",
          "2022"
         ],
         "xaxis": "x",
         "y": [
          0.599,
          0.726,
          0.68044591,
          0.511,
          0.586
         ],
         "yaxis": "y"
        },
        {
         "hovertemplate": "Country=China<br>Year=%{x}<br>Health (Life Expectancy)=%{y}<extra></extra>",
         "legendgroup": "China",
         "line": {
          "color": "#FF6692",
          "dash": "solid"
         },
         "marker": {
          "symbol": "circle"
         },
         "mode": "lines",
         "name": "China",
         "orientation": "v",
         "showlegend": true,
         "type": "scatter",
         "x": [
          "2018",
          "2019",
          "2020",
          "2021",
          "2022"
         ],
         "xaxis": "x",
         "y": [
          0.799,
          0.893,
          0.867248535,
          0.665,
          0.705
         ],
         "yaxis": "y"
        },
        {
         "hovertemplate": "Country=Venezuela<br>Year=%{x}<br>Health (Life Expectancy)=%{y}<extra></extra>",
         "legendgroup": "Venezuela",
         "line": {
          "color": "#B6E880",
          "dash": "solid"
         },
         "marker": {
          "symbol": "circle"
         },
         "mode": "lines",
         "name": "Venezuela",
         "orientation": "v",
         "showlegend": true,
         "type": "scatter",
         "x": [
          "2018",
          "2019",
          "2020",
          "2021",
          "2022"
         ],
         "xaxis": "x",
         "y": [
          0.657,
          0.805,
          0.76702553,
          0.574,
          0.578
         ],
         "yaxis": "y"
        },
        {
         "hovertemplate": "Country=Iraq<br>Year=%{x}<br>Health (Life Expectancy)=%{y}<extra></extra>",
         "legendgroup": "Iraq",
         "line": {
          "color": "#FF97FF",
          "dash": "solid"
         },
         "marker": {
          "symbol": "circle"
         },
         "mode": "lines",
         "name": "Iraq",
         "orientation": "v",
         "showlegend": true,
         "type": "scatter",
         "x": [
          "2018",
          "2019",
          "2020",
          "2021",
          "2022"
         ],
         "xaxis": "x",
         "y": [
          0.536,
          0.574,
          0.529350698,
          0.381,
          0.554
         ],
         "yaxis": "y"
        },
        {
         "hovertemplate": "Country=India<br>Year=%{x}<br>Health (Life Expectancy)=%{y}<extra></extra>",
         "legendgroup": "India",
         "line": {
          "color": "#FECB52",
          "dash": "solid"
         },
         "marker": {
          "symbol": "circle"
         },
         "mode": "lines",
         "name": "India",
         "orientation": "v",
         "showlegend": true,
         "type": "scatter",
         "x": [
          "2018",
          "2019",
          "2020",
          "2021",
          "2022"
         ],
         "xaxis": "x",
         "y": [
          0.485,
          0.588,
          0.54057014,
          0.383,
          0.471
         ],
         "yaxis": "y"
        }
       ],
       "layout": {
        "legend": {
         "title": {
          "text": "Country"
         },
         "tracegroupgap": 0
        },
        "template": {
         "data": {
          "bar": [
           {
            "error_x": {
             "color": "#2a3f5f"
            },
            "error_y": {
             "color": "#2a3f5f"
            },
            "marker": {
             "line": {
              "color": "#E5ECF6",
              "width": 0.5
             },
             "pattern": {
              "fillmode": "overlay",
              "size": 10,
              "solidity": 0.2
             }
            },
            "type": "bar"
           }
          ],
          "barpolar": [
           {
            "marker": {
             "line": {
              "color": "#E5ECF6",
              "width": 0.5
             },
             "pattern": {
              "fillmode": "overlay",
              "size": 10,
              "solidity": 0.2
             }
            },
            "type": "barpolar"
           }
          ],
          "carpet": [
           {
            "aaxis": {
             "endlinecolor": "#2a3f5f",
             "gridcolor": "white",
             "linecolor": "white",
             "minorgridcolor": "white",
             "startlinecolor": "#2a3f5f"
            },
            "baxis": {
             "endlinecolor": "#2a3f5f",
             "gridcolor": "white",
             "linecolor": "white",
             "minorgridcolor": "white",
             "startlinecolor": "#2a3f5f"
            },
            "type": "carpet"
           }
          ],
          "choropleth": [
           {
            "colorbar": {
             "outlinewidth": 0,
             "ticks": ""
            },
            "type": "choropleth"
           }
          ],
          "contour": [
           {
            "colorbar": {
             "outlinewidth": 0,
             "ticks": ""
            },
            "colorscale": [
             [
              0,
              "#0d0887"
             ],
             [
              0.1111111111111111,
              "#46039f"
             ],
             [
              0.2222222222222222,
              "#7201a8"
             ],
             [
              0.3333333333333333,
              "#9c179e"
             ],
             [
              0.4444444444444444,
              "#bd3786"
             ],
             [
              0.5555555555555556,
              "#d8576b"
             ],
             [
              0.6666666666666666,
              "#ed7953"
             ],
             [
              0.7777777777777778,
              "#fb9f3a"
             ],
             [
              0.8888888888888888,
              "#fdca26"
             ],
             [
              1,
              "#f0f921"
             ]
            ],
            "type": "contour"
           }
          ],
          "contourcarpet": [
           {
            "colorbar": {
             "outlinewidth": 0,
             "ticks": ""
            },
            "type": "contourcarpet"
           }
          ],
          "heatmap": [
           {
            "colorbar": {
             "outlinewidth": 0,
             "ticks": ""
            },
            "colorscale": [
             [
              0,
              "#0d0887"
             ],
             [
              0.1111111111111111,
              "#46039f"
             ],
             [
              0.2222222222222222,
              "#7201a8"
             ],
             [
              0.3333333333333333,
              "#9c179e"
             ],
             [
              0.4444444444444444,
              "#bd3786"
             ],
             [
              0.5555555555555556,
              "#d8576b"
             ],
             [
              0.6666666666666666,
              "#ed7953"
             ],
             [
              0.7777777777777778,
              "#fb9f3a"
             ],
             [
              0.8888888888888888,
              "#fdca26"
             ],
             [
              1,
              "#f0f921"
             ]
            ],
            "type": "heatmap"
           }
          ],
          "heatmapgl": [
           {
            "colorbar": {
             "outlinewidth": 0,
             "ticks": ""
            },
            "colorscale": [
             [
              0,
              "#0d0887"
             ],
             [
              0.1111111111111111,
              "#46039f"
             ],
             [
              0.2222222222222222,
              "#7201a8"
             ],
             [
              0.3333333333333333,
              "#9c179e"
             ],
             [
              0.4444444444444444,
              "#bd3786"
             ],
             [
              0.5555555555555556,
              "#d8576b"
             ],
             [
              0.6666666666666666,
              "#ed7953"
             ],
             [
              0.7777777777777778,
              "#fb9f3a"
             ],
             [
              0.8888888888888888,
              "#fdca26"
             ],
             [
              1,
              "#f0f921"
             ]
            ],
            "type": "heatmapgl"
           }
          ],
          "histogram": [
           {
            "marker": {
             "pattern": {
              "fillmode": "overlay",
              "size": 10,
              "solidity": 0.2
             }
            },
            "type": "histogram"
           }
          ],
          "histogram2d": [
           {
            "colorbar": {
             "outlinewidth": 0,
             "ticks": ""
            },
            "colorscale": [
             [
              0,
              "#0d0887"
             ],
             [
              0.1111111111111111,
              "#46039f"
             ],
             [
              0.2222222222222222,
              "#7201a8"
             ],
             [
              0.3333333333333333,
              "#9c179e"
             ],
             [
              0.4444444444444444,
              "#bd3786"
             ],
             [
              0.5555555555555556,
              "#d8576b"
             ],
             [
              0.6666666666666666,
              "#ed7953"
             ],
             [
              0.7777777777777778,
              "#fb9f3a"
             ],
             [
              0.8888888888888888,
              "#fdca26"
             ],
             [
              1,
              "#f0f921"
             ]
            ],
            "type": "histogram2d"
           }
          ],
          "histogram2dcontour": [
           {
            "colorbar": {
             "outlinewidth": 0,
             "ticks": ""
            },
            "colorscale": [
             [
              0,
              "#0d0887"
             ],
             [
              0.1111111111111111,
              "#46039f"
             ],
             [
              0.2222222222222222,
              "#7201a8"
             ],
             [
              0.3333333333333333,
              "#9c179e"
             ],
             [
              0.4444444444444444,
              "#bd3786"
             ],
             [
              0.5555555555555556,
              "#d8576b"
             ],
             [
              0.6666666666666666,
              "#ed7953"
             ],
             [
              0.7777777777777778,
              "#fb9f3a"
             ],
             [
              0.8888888888888888,
              "#fdca26"
             ],
             [
              1,
              "#f0f921"
             ]
            ],
            "type": "histogram2dcontour"
           }
          ],
          "mesh3d": [
           {
            "colorbar": {
             "outlinewidth": 0,
             "ticks": ""
            },
            "type": "mesh3d"
           }
          ],
          "parcoords": [
           {
            "line": {
             "colorbar": {
              "outlinewidth": 0,
              "ticks": ""
             }
            },
            "type": "parcoords"
           }
          ],
          "pie": [
           {
            "automargin": true,
            "type": "pie"
           }
          ],
          "scatter": [
           {
            "fillpattern": {
             "fillmode": "overlay",
             "size": 10,
             "solidity": 0.2
            },
            "type": "scatter"
           }
          ],
          "scatter3d": [
           {
            "line": {
             "colorbar": {
              "outlinewidth": 0,
              "ticks": ""
             }
            },
            "marker": {
             "colorbar": {
              "outlinewidth": 0,
              "ticks": ""
             }
            },
            "type": "scatter3d"
           }
          ],
          "scattercarpet": [
           {
            "marker": {
             "colorbar": {
              "outlinewidth": 0,
              "ticks": ""
             }
            },
            "type": "scattercarpet"
           }
          ],
          "scattergeo": [
           {
            "marker": {
             "colorbar": {
              "outlinewidth": 0,
              "ticks": ""
             }
            },
            "type": "scattergeo"
           }
          ],
          "scattergl": [
           {
            "marker": {
             "colorbar": {
              "outlinewidth": 0,
              "ticks": ""
             }
            },
            "type": "scattergl"
           }
          ],
          "scattermapbox": [
           {
            "marker": {
             "colorbar": {
              "outlinewidth": 0,
              "ticks": ""
             }
            },
            "type": "scattermapbox"
           }
          ],
          "scatterpolar": [
           {
            "marker": {
             "colorbar": {
              "outlinewidth": 0,
              "ticks": ""
             }
            },
            "type": "scatterpolar"
           }
          ],
          "scatterpolargl": [
           {
            "marker": {
             "colorbar": {
              "outlinewidth": 0,
              "ticks": ""
             }
            },
            "type": "scatterpolargl"
           }
          ],
          "scatterternary": [
           {
            "marker": {
             "colorbar": {
              "outlinewidth": 0,
              "ticks": ""
             }
            },
            "type": "scatterternary"
           }
          ],
          "surface": [
           {
            "colorbar": {
             "outlinewidth": 0,
             "ticks": ""
            },
            "colorscale": [
             [
              0,
              "#0d0887"
             ],
             [
              0.1111111111111111,
              "#46039f"
             ],
             [
              0.2222222222222222,
              "#7201a8"
             ],
             [
              0.3333333333333333,
              "#9c179e"
             ],
             [
              0.4444444444444444,
              "#bd3786"
             ],
             [
              0.5555555555555556,
              "#d8576b"
             ],
             [
              0.6666666666666666,
              "#ed7953"
             ],
             [
              0.7777777777777778,
              "#fb9f3a"
             ],
             [
              0.8888888888888888,
              "#fdca26"
             ],
             [
              1,
              "#f0f921"
             ]
            ],
            "type": "surface"
           }
          ],
          "table": [
           {
            "cells": {
             "fill": {
              "color": "#EBF0F8"
             },
             "line": {
              "color": "white"
             }
            },
            "header": {
             "fill": {
              "color": "#C8D4E3"
             },
             "line": {
              "color": "white"
             }
            },
            "type": "table"
           }
          ]
         },
         "layout": {
          "annotationdefaults": {
           "arrowcolor": "#2a3f5f",
           "arrowhead": 0,
           "arrowwidth": 1
          },
          "autotypenumbers": "strict",
          "coloraxis": {
           "colorbar": {
            "outlinewidth": 0,
            "ticks": ""
           }
          },
          "colorscale": {
           "diverging": [
            [
             0,
             "#8e0152"
            ],
            [
             0.1,
             "#c51b7d"
            ],
            [
             0.2,
             "#de77ae"
            ],
            [
             0.3,
             "#f1b6da"
            ],
            [
             0.4,
             "#fde0ef"
            ],
            [
             0.5,
             "#f7f7f7"
            ],
            [
             0.6,
             "#e6f5d0"
            ],
            [
             0.7,
             "#b8e186"
            ],
            [
             0.8,
             "#7fbc41"
            ],
            [
             0.9,
             "#4d9221"
            ],
            [
             1,
             "#276419"
            ]
           ],
           "sequential": [
            [
             0,
             "#0d0887"
            ],
            [
             0.1111111111111111,
             "#46039f"
            ],
            [
             0.2222222222222222,
             "#7201a8"
            ],
            [
             0.3333333333333333,
             "#9c179e"
            ],
            [
             0.4444444444444444,
             "#bd3786"
            ],
            [
             0.5555555555555556,
             "#d8576b"
            ],
            [
             0.6666666666666666,
             "#ed7953"
            ],
            [
             0.7777777777777778,
             "#fb9f3a"
            ],
            [
             0.8888888888888888,
             "#fdca26"
            ],
            [
             1,
             "#f0f921"
            ]
           ],
           "sequentialminus": [
            [
             0,
             "#0d0887"
            ],
            [
             0.1111111111111111,
             "#46039f"
            ],
            [
             0.2222222222222222,
             "#7201a8"
            ],
            [
             0.3333333333333333,
             "#9c179e"
            ],
            [
             0.4444444444444444,
             "#bd3786"
            ],
            [
             0.5555555555555556,
             "#d8576b"
            ],
            [
             0.6666666666666666,
             "#ed7953"
            ],
            [
             0.7777777777777778,
             "#fb9f3a"
            ],
            [
             0.8888888888888888,
             "#fdca26"
            ],
            [
             1,
             "#f0f921"
            ]
           ]
          },
          "colorway": [
           "#636efa",
           "#EF553B",
           "#00cc96",
           "#ab63fa",
           "#FFA15A",
           "#19d3f3",
           "#FF6692",
           "#B6E880",
           "#FF97FF",
           "#FECB52"
          ],
          "font": {
           "color": "#2a3f5f"
          },
          "geo": {
           "bgcolor": "white",
           "lakecolor": "white",
           "landcolor": "#E5ECF6",
           "showlakes": true,
           "showland": true,
           "subunitcolor": "white"
          },
          "hoverlabel": {
           "align": "left"
          },
          "hovermode": "closest",
          "mapbox": {
           "style": "light"
          },
          "paper_bgcolor": "white",
          "plot_bgcolor": "#E5ECF6",
          "polar": {
           "angularaxis": {
            "gridcolor": "white",
            "linecolor": "white",
            "ticks": ""
           },
           "bgcolor": "#E5ECF6",
           "radialaxis": {
            "gridcolor": "white",
            "linecolor": "white",
            "ticks": ""
           }
          },
          "scene": {
           "xaxis": {
            "backgroundcolor": "#E5ECF6",
            "gridcolor": "white",
            "gridwidth": 2,
            "linecolor": "white",
            "showbackground": true,
            "ticks": "",
            "zerolinecolor": "white"
           },
           "yaxis": {
            "backgroundcolor": "#E5ECF6",
            "gridcolor": "white",
            "gridwidth": 2,
            "linecolor": "white",
            "showbackground": true,
            "ticks": "",
            "zerolinecolor": "white"
           },
           "zaxis": {
            "backgroundcolor": "#E5ECF6",
            "gridcolor": "white",
            "gridwidth": 2,
            "linecolor": "white",
            "showbackground": true,
            "ticks": "",
            "zerolinecolor": "white"
           }
          },
          "shapedefaults": {
           "line": {
            "color": "#2a3f5f"
           }
          },
          "ternary": {
           "aaxis": {
            "gridcolor": "white",
            "linecolor": "white",
            "ticks": ""
           },
           "baxis": {
            "gridcolor": "white",
            "linecolor": "white",
            "ticks": ""
           },
           "bgcolor": "#E5ECF6",
           "caxis": {
            "gridcolor": "white",
            "linecolor": "white",
            "ticks": ""
           }
          },
          "title": {
           "x": 0.05
          },
          "xaxis": {
           "automargin": true,
           "gridcolor": "white",
           "linecolor": "white",
           "ticks": "",
           "title": {
            "standoff": 15
           },
           "zerolinecolor": "white",
           "zerolinewidth": 2
          },
          "yaxis": {
           "automargin": true,
           "gridcolor": "white",
           "linecolor": "white",
           "ticks": "",
           "title": {
            "standoff": 15
           },
           "zerolinecolor": "white",
           "zerolinewidth": 2
          }
         }
        },
        "title": {
         "text": "Health (Life Expectancy)"
        },
        "xaxis": {
         "anchor": "y",
         "domain": [
          0,
          1
         ],
         "title": {
          "text": "Year"
         }
        },
        "yaxis": {
         "anchor": "x",
         "domain": [
          0,
          1
         ],
         "title": {
          "text": "Health (Life Expectancy)"
         }
        }
       }
      }
     },
     "metadata": {},
     "output_type": "display_data"
    },
    {
     "data": {
      "application/vnd.plotly.v1+json": {
       "config": {
        "plotlyServerURL": "https://plot.ly"
       },
       "data": [
        {
         "hovertemplate": "Country=Finland<br>Year=%{x}<br>Freedom=%{y}<extra></extra>",
         "legendgroup": "Finland",
         "line": {
          "color": "#636efa",
          "dash": "solid"
         },
         "marker": {
          "symbol": "circle"
         },
         "mode": "lines",
         "name": "Finland",
         "orientation": "v",
         "showlegend": true,
         "type": "scatter",
         "x": [
          "2018",
          "2019",
          "2020",
          "2021",
          "2022"
         ],
         "xaxis": "x",
         "y": [
          0.681,
          0.596,
          0.66231674,
          0.691,
          0.736
         ],
         "yaxis": "y"
        },
        {
         "hovertemplate": "Country=Norway<br>Year=%{x}<br>Freedom=%{y}<extra></extra>",
         "legendgroup": "Norway",
         "line": {
          "color": "#EF553B",
          "dash": "solid"
         },
         "marker": {
          "symbol": "circle"
         },
         "mode": "lines",
         "name": "Norway",
         "orientation": "v",
         "showlegend": true,
         "type": "scatter",
         "x": [
          "2018",
          "2019",
          "2020",
          "2021",
          "2022"
         ],
         "xaxis": "x",
         "y": [
          0.686,
          0.603,
          0.670200884,
          0.703,
          0.728
         ],
         "yaxis": "y"
        },
        {
         "hovertemplate": "Country=Denmark<br>Year=%{x}<br>Freedom=%{y}<extra></extra>",
         "legendgroup": "Denmark",
         "line": {
          "color": "#00cc96",
          "dash": "solid"
         },
         "marker": {
          "symbol": "circle"
         },
         "mode": "lines",
         "name": "Denmark",
         "orientation": "v",
         "showlegend": true,
         "type": "scatter",
         "x": [
          "2018",
          "2019",
          "2020",
          "2021",
          "2022"
         ],
         "xaxis": "x",
         "y": [
          0.683,
          0.592,
          0.665039897,
          0.686,
          0.719
         ],
         "yaxis": "y"
        },
        {
         "hovertemplate": "Country=Switzerland<br>Year=%{x}<br>Freedom=%{y}<extra></extra>",
         "legendgroup": "Switzerland",
         "line": {
          "color": "#ab63fa",
          "dash": "solid"
         },
         "marker": {
          "symbol": "circle"
         },
         "mode": "lines",
         "name": "Switzerland",
         "orientation": "v",
         "showlegend": true,
         "type": "scatter",
         "x": [
          "2018",
          "2019",
          "2020",
          "2021",
          "2022"
         ],
         "xaxis": "x",
         "y": [
          0.66,
          0.572,
          0.62895447,
          0.653,
          0.677
         ],
         "yaxis": "y"
        },
        {
         "hovertemplate": "Country=Canada<br>Year=%{x}<br>Freedom=%{y}<extra></extra>",
         "legendgroup": "Canada",
         "line": {
          "color": "#FFA15A",
          "dash": "solid"
         },
         "marker": {
          "symbol": "circle"
         },
         "mode": "lines",
         "name": "Canada",
         "orientation": "v",
         "showlegend": true,
         "type": "scatter",
         "x": [
          "2018",
          "2019",
          "2020",
          "2021",
          "2022"
         ],
         "xaxis": "x",
         "y": [
          0.653,
          0.584,
          0.644028127,
          0.648,
          0.659
         ],
         "yaxis": "y"
        },
        {
         "hovertemplate": "Country=Australia<br>Year=%{x}<br>Freedom=%{y}<extra></extra>",
         "legendgroup": "Australia",
         "line": {
          "color": "#19d3f3",
          "dash": "solid"
         },
         "marker": {
          "symbol": "circle"
         },
         "mode": "lines",
         "name": "Australia",
         "orientation": "v",
         "showlegend": true,
         "type": "scatter",
         "x": [
          "2018",
          "2019",
          "2020",
          "2021",
          "2022"
         ],
         "xaxis": "x",
         "y": [
          0.647,
          0.557,
          0.621877193,
          0.647,
          0.676
         ],
         "yaxis": "y"
        },
        {
         "hovertemplate": "Country=United Kingdom<br>Year=%{x}<br>Freedom=%{y}<extra></extra>",
         "legendgroup": "United Kingdom",
         "line": {
          "color": "#FF6692",
          "dash": "solid"
         },
         "marker": {
          "symbol": "circle"
         },
         "mode": "lines",
         "name": "United Kingdom",
         "orientation": "v",
         "showlegend": true,
         "type": "scatter",
         "x": [
          "2018",
          "2019",
          "2020",
          "2021",
          "2022"
         ],
         "xaxis": "x",
         "y": [
          0.464,
          0.45,
          0.525168657,
          0.58,
          0.597
         ],
         "yaxis": "y"
        },
        {
         "hovertemplate": "Country=Germany<br>Year=%{x}<br>Freedom=%{y}<extra></extra>",
         "legendgroup": "Germany",
         "line": {
          "color": "#B6E880",
          "dash": "solid"
         },
         "marker": {
          "symbol": "circle"
         },
         "mode": "lines",
         "name": "Germany",
         "orientation": "v",
         "showlegend": true,
         "type": "scatter",
         "x": [
          "2018",
          "2019",
          "2020",
          "2021",
          "2022"
         ],
         "xaxis": "x",
         "y": [
          0.586,
          0.495,
          0.564274132,
          0.6,
          0.585
         ],
         "yaxis": "y"
        },
        {
         "hovertemplate": "Country=United States<br>Year=%{x}<br>Freedom=%{y}<extra></extra>",
         "legendgroup": "United States",
         "line": {
          "color": "#FF97FF",
          "dash": "solid"
         },
         "marker": {
          "symbol": "circle"
         },
         "mode": "lines",
         "name": "United States",
         "orientation": "v",
         "showlegend": true,
         "type": "scatter",
         "x": [
          "2018",
          "2019",
          "2020",
          "2021",
          "2022"
         ],
         "xaxis": "x",
         "y": [
          0.547,
          0.454,
          0.534608245,
          0.554,
          0.574
         ],
         "yaxis": "y"
        },
        {
         "hovertemplate": "Country=France<br>Year=%{x}<br>Freedom=%{y}<extra></extra>",
         "legendgroup": "France",
         "line": {
          "color": "#FECB52",
          "dash": "solid"
         },
         "marker": {
          "symbol": "circle"
         },
         "mode": "lines",
         "name": "France",
         "orientation": "v",
         "showlegend": true,
         "type": "scatter",
         "x": [
          "2018",
          "2019",
          "2020",
          "2021",
          "2022"
         ],
         "xaxis": "x",
         "y": [
          0.52,
          0.436,
          0.514050901,
          0.536,
          0.567
         ],
         "yaxis": "y"
        },
        {
         "hovertemplate": "Country=Mexico<br>Year=%{x}<br>Freedom=%{y}<extra></extra>",
         "legendgroup": "Mexico",
         "line": {
          "color": "#636efa",
          "dash": "solid"
         },
         "marker": {
          "symbol": "circle"
         },
         "mode": "lines",
         "name": "Mexico",
         "orientation": "v",
         "showlegend": true,
         "type": "scatter",
         "x": [
          "2018",
          "2019",
          "2020",
          "2021",
          "2022"
         ],
         "xaxis": "x",
         "y": [
          0.479,
          0.433,
          0.553892553,
          0.585,
          0.621
         ],
         "yaxis": "y"
        },
        {
         "hovertemplate": "Country=Brazil<br>Year=%{x}<br>Freedom=%{y}<extra></extra>",
         "legendgroup": "Brazil",
         "line": {
          "color": "#EF553B",
          "dash": "solid"
         },
         "marker": {
          "symbol": "circle"
         },
         "mode": "lines",
         "name": "Brazil",
         "orientation": "v",
         "showlegend": true,
         "type": "scatter",
         "x": [
          "2018",
          "2019",
          "2020",
          "2021",
          "2022"
         ],
         "xaxis": "x",
         "y": [
          0.493,
          0.39,
          0.483292729,
          0.514,
          0.546
         ],
         "yaxis": "y"
        },
        {
         "hovertemplate": "Country=Saudi Arabia<br>Year=%{x}<br>Freedom=%{y}<extra></extra>",
         "legendgroup": "Saudi Arabia",
         "line": {
          "color": "#00cc96",
          "dash": "solid"
         },
         "marker": {
          "symbol": "circle"
         },
         "mode": "lines",
         "name": "Saudi Arabia",
         "orientation": "v",
         "showlegend": true,
         "type": "scatter",
         "x": [
          "2018",
          "2019",
          "2020",
          "2021",
          "2022"
         ],
         "xaxis": "x",
         "y": [
          0.509,
          0.439,
          0.548477471,
          0.603,
          0.651
         ],
         "yaxis": "y"
        },
        {
         "hovertemplate": "Country=Spain<br>Year=%{x}<br>Freedom=%{y}<extra></extra>",
         "legendgroup": "Spain",
         "line": {
          "color": "#ab63fa",
          "dash": "solid"
         },
         "marker": {
          "symbol": "circle"
         },
         "mode": "lines",
         "name": "Spain",
         "orientation": "v",
         "showlegend": true,
         "type": "scatter",
         "x": [
          "2018",
          "2019",
          "2020",
          "2021",
          "2022"
         ],
         "xaxis": "x",
         "y": [
          0.449,
          0.362,
          0.425983816,
          0.462,
          0.505
         ],
         "yaxis": "y"
        },
        {
         "hovertemplate": "Country=Japan<br>Year=%{x}<br>Freedom=%{y}<extra></extra>",
         "legendgroup": "Japan",
         "line": {
          "color": "#FFA15A",
          "dash": "solid"
         },
         "marker": {
          "symbol": "circle"
         },
         "mode": "lines",
         "name": "Japan",
         "orientation": "v",
         "showlegend": true,
         "type": "scatter",
         "x": [
          "2018",
          "2019",
          "2020",
          "2021",
          "2022"
         ],
         "xaxis": "x",
         "y": [
          0.553,
          0.445,
          0.495465875,
          0.504,
          0.537
         ],
         "yaxis": "y"
        },
        {
         "hovertemplate": "Country=Russia<br>Year=%{x}<br>Freedom=%{y}<extra></extra>",
         "legendgroup": "Russia",
         "line": {
          "color": "#19d3f3",
          "dash": "solid"
         },
         "marker": {
          "symbol": "circle"
         },
         "mode": "lines",
         "name": "Russia",
         "orientation": "v",
         "showlegend": true,
         "type": "scatter",
         "x": [
          "2018",
          "2019",
          "2020",
          "2021",
          "2022"
         ],
         "xaxis": "x",
         "y": [
          0.399,
          0.334,
          0.399499595,
          0.409,
          0.401
         ],
         "yaxis": "y"
        },
        {
         "hovertemplate": "Country=China<br>Year=%{x}<br>Freedom=%{y}<extra></extra>",
         "legendgroup": "China",
         "line": {
          "color": "#FF6692",
          "dash": "solid"
         },
         "marker": {
          "symbol": "circle"
         },
         "mode": "lines",
         "name": "China",
         "orientation": "v",
         "showlegend": true,
         "type": "scatter",
         "x": [
          "2018",
          "2019",
          "2020",
          "2021",
          "2022"
         ],
         "xaxis": "x",
         "y": [
          0.597,
          0.521,
          0.601605117,
          0.636,
          0.656
         ],
         "yaxis": "y"
        },
        {
         "hovertemplate": "Country=Venezuela<br>Year=%{x}<br>Freedom=%{y}<extra></extra>",
         "legendgroup": "Venezuela",
         "line": {
          "color": "#B6E880",
          "dash": "solid"
         },
         "marker": {
          "symbol": "circle"
         },
         "mode": "lines",
         "name": "Venezuela",
         "orientation": "v",
         "showlegend": true,
         "type": "scatter",
         "x": [
          "2018",
          "2019",
          "2020",
          "2021",
          "2022"
         ],
         "xaxis": "x",
         "y": [
          0.133,
          0.154,
          0.271717221,
          0.284,
          0.283
         ],
         "yaxis": "y"
        },
        {
         "hovertemplate": "Country=Iraq<br>Year=%{x}<br>Freedom=%{y}<extra></extra>",
         "legendgroup": "Iraq",
         "line": {
          "color": "#FF97FF",
          "dash": "solid"
         },
         "marker": {
          "symbol": "circle"
         },
         "mode": "lines",
         "name": "Iraq",
         "orientation": "v",
         "showlegend": true,
         "type": "scatter",
         "x": [
          "2018",
          "2019",
          "2020",
          "2021",
          "2022"
         ],
         "xaxis": "x",
         "y": [
          0.304,
          0.241,
          0.283588052,
          0.302,
          0.328
         ],
         "yaxis": "y"
        },
        {
         "hovertemplate": "Country=India<br>Year=%{x}<br>Freedom=%{y}<extra></extra>",
         "legendgroup": "India",
         "line": {
          "color": "#FECB52",
          "dash": "solid"
         },
         "marker": {
          "symbol": "circle"
         },
         "mode": "lines",
         "name": "India",
         "orientation": "v",
         "showlegend": true,
         "type": "scatter",
         "x": [
          "2018",
          "2019",
          "2020",
          "2021",
          "2022"
         ],
         "xaxis": "x",
         "y": [
          0.539,
          0.498,
          0.581142247,
          0.622,
          0.647
         ],
         "yaxis": "y"
        }
       ],
       "layout": {
        "legend": {
         "title": {
          "text": "Country"
         },
         "tracegroupgap": 0
        },
        "template": {
         "data": {
          "bar": [
           {
            "error_x": {
             "color": "#2a3f5f"
            },
            "error_y": {
             "color": "#2a3f5f"
            },
            "marker": {
             "line": {
              "color": "#E5ECF6",
              "width": 0.5
             },
             "pattern": {
              "fillmode": "overlay",
              "size": 10,
              "solidity": 0.2
             }
            },
            "type": "bar"
           }
          ],
          "barpolar": [
           {
            "marker": {
             "line": {
              "color": "#E5ECF6",
              "width": 0.5
             },
             "pattern": {
              "fillmode": "overlay",
              "size": 10,
              "solidity": 0.2
             }
            },
            "type": "barpolar"
           }
          ],
          "carpet": [
           {
            "aaxis": {
             "endlinecolor": "#2a3f5f",
             "gridcolor": "white",
             "linecolor": "white",
             "minorgridcolor": "white",
             "startlinecolor": "#2a3f5f"
            },
            "baxis": {
             "endlinecolor": "#2a3f5f",
             "gridcolor": "white",
             "linecolor": "white",
             "minorgridcolor": "white",
             "startlinecolor": "#2a3f5f"
            },
            "type": "carpet"
           }
          ],
          "choropleth": [
           {
            "colorbar": {
             "outlinewidth": 0,
             "ticks": ""
            },
            "type": "choropleth"
           }
          ],
          "contour": [
           {
            "colorbar": {
             "outlinewidth": 0,
             "ticks": ""
            },
            "colorscale": [
             [
              0,
              "#0d0887"
             ],
             [
              0.1111111111111111,
              "#46039f"
             ],
             [
              0.2222222222222222,
              "#7201a8"
             ],
             [
              0.3333333333333333,
              "#9c179e"
             ],
             [
              0.4444444444444444,
              "#bd3786"
             ],
             [
              0.5555555555555556,
              "#d8576b"
             ],
             [
              0.6666666666666666,
              "#ed7953"
             ],
             [
              0.7777777777777778,
              "#fb9f3a"
             ],
             [
              0.8888888888888888,
              "#fdca26"
             ],
             [
              1,
              "#f0f921"
             ]
            ],
            "type": "contour"
           }
          ],
          "contourcarpet": [
           {
            "colorbar": {
             "outlinewidth": 0,
             "ticks": ""
            },
            "type": "contourcarpet"
           }
          ],
          "heatmap": [
           {
            "colorbar": {
             "outlinewidth": 0,
             "ticks": ""
            },
            "colorscale": [
             [
              0,
              "#0d0887"
             ],
             [
              0.1111111111111111,
              "#46039f"
             ],
             [
              0.2222222222222222,
              "#7201a8"
             ],
             [
              0.3333333333333333,
              "#9c179e"
             ],
             [
              0.4444444444444444,
              "#bd3786"
             ],
             [
              0.5555555555555556,
              "#d8576b"
             ],
             [
              0.6666666666666666,
              "#ed7953"
             ],
             [
              0.7777777777777778,
              "#fb9f3a"
             ],
             [
              0.8888888888888888,
              "#fdca26"
             ],
             [
              1,
              "#f0f921"
             ]
            ],
            "type": "heatmap"
           }
          ],
          "heatmapgl": [
           {
            "colorbar": {
             "outlinewidth": 0,
             "ticks": ""
            },
            "colorscale": [
             [
              0,
              "#0d0887"
             ],
             [
              0.1111111111111111,
              "#46039f"
             ],
             [
              0.2222222222222222,
              "#7201a8"
             ],
             [
              0.3333333333333333,
              "#9c179e"
             ],
             [
              0.4444444444444444,
              "#bd3786"
             ],
             [
              0.5555555555555556,
              "#d8576b"
             ],
             [
              0.6666666666666666,
              "#ed7953"
             ],
             [
              0.7777777777777778,
              "#fb9f3a"
             ],
             [
              0.8888888888888888,
              "#fdca26"
             ],
             [
              1,
              "#f0f921"
             ]
            ],
            "type": "heatmapgl"
           }
          ],
          "histogram": [
           {
            "marker": {
             "pattern": {
              "fillmode": "overlay",
              "size": 10,
              "solidity": 0.2
             }
            },
            "type": "histogram"
           }
          ],
          "histogram2d": [
           {
            "colorbar": {
             "outlinewidth": 0,
             "ticks": ""
            },
            "colorscale": [
             [
              0,
              "#0d0887"
             ],
             [
              0.1111111111111111,
              "#46039f"
             ],
             [
              0.2222222222222222,
              "#7201a8"
             ],
             [
              0.3333333333333333,
              "#9c179e"
             ],
             [
              0.4444444444444444,
              "#bd3786"
             ],
             [
              0.5555555555555556,
              "#d8576b"
             ],
             [
              0.6666666666666666,
              "#ed7953"
             ],
             [
              0.7777777777777778,
              "#fb9f3a"
             ],
             [
              0.8888888888888888,
              "#fdca26"
             ],
             [
              1,
              "#f0f921"
             ]
            ],
            "type": "histogram2d"
           }
          ],
          "histogram2dcontour": [
           {
            "colorbar": {
             "outlinewidth": 0,
             "ticks": ""
            },
            "colorscale": [
             [
              0,
              "#0d0887"
             ],
             [
              0.1111111111111111,
              "#46039f"
             ],
             [
              0.2222222222222222,
              "#7201a8"
             ],
             [
              0.3333333333333333,
              "#9c179e"
             ],
             [
              0.4444444444444444,
              "#bd3786"
             ],
             [
              0.5555555555555556,
              "#d8576b"
             ],
             [
              0.6666666666666666,
              "#ed7953"
             ],
             [
              0.7777777777777778,
              "#fb9f3a"
             ],
             [
              0.8888888888888888,
              "#fdca26"
             ],
             [
              1,
              "#f0f921"
             ]
            ],
            "type": "histogram2dcontour"
           }
          ],
          "mesh3d": [
           {
            "colorbar": {
             "outlinewidth": 0,
             "ticks": ""
            },
            "type": "mesh3d"
           }
          ],
          "parcoords": [
           {
            "line": {
             "colorbar": {
              "outlinewidth": 0,
              "ticks": ""
             }
            },
            "type": "parcoords"
           }
          ],
          "pie": [
           {
            "automargin": true,
            "type": "pie"
           }
          ],
          "scatter": [
           {
            "fillpattern": {
             "fillmode": "overlay",
             "size": 10,
             "solidity": 0.2
            },
            "type": "scatter"
           }
          ],
          "scatter3d": [
           {
            "line": {
             "colorbar": {
              "outlinewidth": 0,
              "ticks": ""
             }
            },
            "marker": {
             "colorbar": {
              "outlinewidth": 0,
              "ticks": ""
             }
            },
            "type": "scatter3d"
           }
          ],
          "scattercarpet": [
           {
            "marker": {
             "colorbar": {
              "outlinewidth": 0,
              "ticks": ""
             }
            },
            "type": "scattercarpet"
           }
          ],
          "scattergeo": [
           {
            "marker": {
             "colorbar": {
              "outlinewidth": 0,
              "ticks": ""
             }
            },
            "type": "scattergeo"
           }
          ],
          "scattergl": [
           {
            "marker": {
             "colorbar": {
              "outlinewidth": 0,
              "ticks": ""
             }
            },
            "type": "scattergl"
           }
          ],
          "scattermapbox": [
           {
            "marker": {
             "colorbar": {
              "outlinewidth": 0,
              "ticks": ""
             }
            },
            "type": "scattermapbox"
           }
          ],
          "scatterpolar": [
           {
            "marker": {
             "colorbar": {
              "outlinewidth": 0,
              "ticks": ""
             }
            },
            "type": "scatterpolar"
           }
          ],
          "scatterpolargl": [
           {
            "marker": {
             "colorbar": {
              "outlinewidth": 0,
              "ticks": ""
             }
            },
            "type": "scatterpolargl"
           }
          ],
          "scatterternary": [
           {
            "marker": {
             "colorbar": {
              "outlinewidth": 0,
              "ticks": ""
             }
            },
            "type": "scatterternary"
           }
          ],
          "surface": [
           {
            "colorbar": {
             "outlinewidth": 0,
             "ticks": ""
            },
            "colorscale": [
             [
              0,
              "#0d0887"
             ],
             [
              0.1111111111111111,
              "#46039f"
             ],
             [
              0.2222222222222222,
              "#7201a8"
             ],
             [
              0.3333333333333333,
              "#9c179e"
             ],
             [
              0.4444444444444444,
              "#bd3786"
             ],
             [
              0.5555555555555556,
              "#d8576b"
             ],
             [
              0.6666666666666666,
              "#ed7953"
             ],
             [
              0.7777777777777778,
              "#fb9f3a"
             ],
             [
              0.8888888888888888,
              "#fdca26"
             ],
             [
              1,
              "#f0f921"
             ]
            ],
            "type": "surface"
           }
          ],
          "table": [
           {
            "cells": {
             "fill": {
              "color": "#EBF0F8"
             },
             "line": {
              "color": "white"
             }
            },
            "header": {
             "fill": {
              "color": "#C8D4E3"
             },
             "line": {
              "color": "white"
             }
            },
            "type": "table"
           }
          ]
         },
         "layout": {
          "annotationdefaults": {
           "arrowcolor": "#2a3f5f",
           "arrowhead": 0,
           "arrowwidth": 1
          },
          "autotypenumbers": "strict",
          "coloraxis": {
           "colorbar": {
            "outlinewidth": 0,
            "ticks": ""
           }
          },
          "colorscale": {
           "diverging": [
            [
             0,
             "#8e0152"
            ],
            [
             0.1,
             "#c51b7d"
            ],
            [
             0.2,
             "#de77ae"
            ],
            [
             0.3,
             "#f1b6da"
            ],
            [
             0.4,
             "#fde0ef"
            ],
            [
             0.5,
             "#f7f7f7"
            ],
            [
             0.6,
             "#e6f5d0"
            ],
            [
             0.7,
             "#b8e186"
            ],
            [
             0.8,
             "#7fbc41"
            ],
            [
             0.9,
             "#4d9221"
            ],
            [
             1,
             "#276419"
            ]
           ],
           "sequential": [
            [
             0,
             "#0d0887"
            ],
            [
             0.1111111111111111,
             "#46039f"
            ],
            [
             0.2222222222222222,
             "#7201a8"
            ],
            [
             0.3333333333333333,
             "#9c179e"
            ],
            [
             0.4444444444444444,
             "#bd3786"
            ],
            [
             0.5555555555555556,
             "#d8576b"
            ],
            [
             0.6666666666666666,
             "#ed7953"
            ],
            [
             0.7777777777777778,
             "#fb9f3a"
            ],
            [
             0.8888888888888888,
             "#fdca26"
            ],
            [
             1,
             "#f0f921"
            ]
           ],
           "sequentialminus": [
            [
             0,
             "#0d0887"
            ],
            [
             0.1111111111111111,
             "#46039f"
            ],
            [
             0.2222222222222222,
             "#7201a8"
            ],
            [
             0.3333333333333333,
             "#9c179e"
            ],
            [
             0.4444444444444444,
             "#bd3786"
            ],
            [
             0.5555555555555556,
             "#d8576b"
            ],
            [
             0.6666666666666666,
             "#ed7953"
            ],
            [
             0.7777777777777778,
             "#fb9f3a"
            ],
            [
             0.8888888888888888,
             "#fdca26"
            ],
            [
             1,
             "#f0f921"
            ]
           ]
          },
          "colorway": [
           "#636efa",
           "#EF553B",
           "#00cc96",
           "#ab63fa",
           "#FFA15A",
           "#19d3f3",
           "#FF6692",
           "#B6E880",
           "#FF97FF",
           "#FECB52"
          ],
          "font": {
           "color": "#2a3f5f"
          },
          "geo": {
           "bgcolor": "white",
           "lakecolor": "white",
           "landcolor": "#E5ECF6",
           "showlakes": true,
           "showland": true,
           "subunitcolor": "white"
          },
          "hoverlabel": {
           "align": "left"
          },
          "hovermode": "closest",
          "mapbox": {
           "style": "light"
          },
          "paper_bgcolor": "white",
          "plot_bgcolor": "#E5ECF6",
          "polar": {
           "angularaxis": {
            "gridcolor": "white",
            "linecolor": "white",
            "ticks": ""
           },
           "bgcolor": "#E5ECF6",
           "radialaxis": {
            "gridcolor": "white",
            "linecolor": "white",
            "ticks": ""
           }
          },
          "scene": {
           "xaxis": {
            "backgroundcolor": "#E5ECF6",
            "gridcolor": "white",
            "gridwidth": 2,
            "linecolor": "white",
            "showbackground": true,
            "ticks": "",
            "zerolinecolor": "white"
           },
           "yaxis": {
            "backgroundcolor": "#E5ECF6",
            "gridcolor": "white",
            "gridwidth": 2,
            "linecolor": "white",
            "showbackground": true,
            "ticks": "",
            "zerolinecolor": "white"
           },
           "zaxis": {
            "backgroundcolor": "#E5ECF6",
            "gridcolor": "white",
            "gridwidth": 2,
            "linecolor": "white",
            "showbackground": true,
            "ticks": "",
            "zerolinecolor": "white"
           }
          },
          "shapedefaults": {
           "line": {
            "color": "#2a3f5f"
           }
          },
          "ternary": {
           "aaxis": {
            "gridcolor": "white",
            "linecolor": "white",
            "ticks": ""
           },
           "baxis": {
            "gridcolor": "white",
            "linecolor": "white",
            "ticks": ""
           },
           "bgcolor": "#E5ECF6",
           "caxis": {
            "gridcolor": "white",
            "linecolor": "white",
            "ticks": ""
           }
          },
          "title": {
           "x": 0.05
          },
          "xaxis": {
           "automargin": true,
           "gridcolor": "white",
           "linecolor": "white",
           "ticks": "",
           "title": {
            "standoff": 15
           },
           "zerolinecolor": "white",
           "zerolinewidth": 2
          },
          "yaxis": {
           "automargin": true,
           "gridcolor": "white",
           "linecolor": "white",
           "ticks": "",
           "title": {
            "standoff": 15
           },
           "zerolinecolor": "white",
           "zerolinewidth": 2
          }
         }
        },
        "title": {
         "text": "Freedom"
        },
        "xaxis": {
         "anchor": "y",
         "domain": [
          0,
          1
         ],
         "title": {
          "text": "Year"
         }
        },
        "yaxis": {
         "anchor": "x",
         "domain": [
          0,
          1
         ],
         "title": {
          "text": "Freedom"
         }
        }
       }
      }
     },
     "metadata": {},
     "output_type": "display_data"
    }
   ],
   "source": [
    "# Show the flux of Happiness, Economy, Health, and Freedom in a sample of countries from 2018 - 2022\n",
    "countries= [\"Canada\", \"United States\", \"Mexico\", \"Brazil\", \"Venezuela\", \"United Kingdom\", \"France\", \"Spain\", \"Germany\", \"Switzerland\", \"Denmark\", \"Norway\", \"Finland\", \"Saudi Arabia\", \"Iraq\", \"Russia\", \"China\", \"Japan\", \"India\", \"Australia\"]\n",
    "\n",
    "df_countries = df_complete[df_complete[\"Country\"].isin(countries)]\n",
    "\n",
    "fig6 = px.line(df_countries, x=\"Year\", y=\"Happiness Score\", color=\"Country\", title=\"Happiness Score\")\n",
    "fig6.show()\n",
    "\n",
    "fig6 = px.line(df_countries, x=\"Year\", y=\"Economy (GDP per Capita)\", color=\"Country\", title=\"Economy (GDP per Capita)\")\n",
    "fig6.show()\n",
    "\n",
    "fig6 = px.line(df_countries, x=\"Year\", y=\"Health (Life Expectancy)\", color=\"Country\", title=\"Health (Life Expectancy)\")\n",
    "fig6.show()\n",
    "\n",
    "fig6=px.line(df_countries, x=\"Year\", y=\"Freedom\", color=\"Country\", title=\"Freedom\")\n",
    "fig6.show()\n"
   ]
  },
  {
   "cell_type": "code",
   "execution_count": 24,
   "metadata": {},
   "outputs": [
    {
     "data": {
      "image/png": "[encoded data removed]",
      "text/plain": [
       "<Figure size 1000x700 with 2 Axes>"
      ]
     },
     "metadata": {},
     "output_type": "display_data"
    }
   ],
   "source": [
    "# Show correlation of Happiness, Health, Freedom, and Economy from 2018 - 2022\n",
    "plt.figure(figsize=(10,7))\n",
    "fig7 = df_complete[[\"Happiness Score\", \"Economy (GDP per Capita)\", \"Health (Life Expectancy)\", \"Freedom\"]].corr()\n",
    "sb.heatmap(fig7 ,annot=True, fmt='.2f', cmap=\"Blues\")\n",
    "plt.title(\"Correlation Happiness, Economy, Health, Freedom 2018 - 2022\")\n",
    "plt.show()\n"
   ]
  }
 ],
 "metadata": {
  "kernelspec": {
   "display_name": "Python 3",
   "language": "python",
   "name": "python3"
  },
  "language_info": {
   "codemirror_mode": {
    "name": "ipython",
    "version": 3
   },
   "file_extension": ".py",
   "mimetype": "text/x-python",
   "name": "python",
   "nbconvert_exporter": "python",
   "pygments_lexer": "ipython3",
   "version": "3.12.3"
  }
 },
 "nbformat": 4,
 "nbformat_minor": 2
}
